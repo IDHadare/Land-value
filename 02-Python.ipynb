{
 "cells": [
  {
   "cell_type": "markdown",
   "id": "amended-criticism",
   "metadata": {},
   "source": [
    "# Exam of programmation and big data"
   ]
  },
  {
   "cell_type": "markdown",
   "id": "beneficial-hamilton",
   "metadata": {},
   "source": [
    "The objective of this work is therefore to predict from statistical, econometric and machine learning methods, the land value according to the type of real estate. To do this we will rely on the databases from a French Administrative Direction, namely the Directorate General of Public Finance (DGFiP). The databases date from 2016 to 2021 and lists all real estate sales made over the last six years, in metropolitan France and in the overseas departments and territories except in Mayotte and Alsace-Moselle. We will work both on SQL and Python language \n",
    "The data base  can be downloaded on https://www.data.gouv.fr/fr/datasets/demandes-de-valeurs-foncieres/"
   ]
  },
  {
   "cell_type": "markdown",
   "id": "automatic-collar",
   "metadata": {},
   "source": [
    "Made by : Liassou Rachad(EBDS),  Idrissou Hadare(EBDS) ,  Zinsou-Ply Freedel (APE)"
   ]
  },
  {
   "cell_type": "code",
   "execution_count": 1,
   "id": "prompt-newport",
   "metadata": {},
   "outputs": [],
   "source": [
    "#import database\n",
    "import pandas as pd \n",
    "import numpy as np\n",
    "import matplotlib.pyplot as plt\n",
    "import sklearn\n",
    "import seaborn as sns\n",
    "from sklearn import metrics\n",
    "from sklearn.metrics import mean_squared_error\n",
    "import matplotlib.pyplot as plt\n",
    "import matplotlib\n",
    "import warnings\n",
    "from sklearn.model_selection import cross_val_score\n",
    "warnings.filterwarnings(\"ignore\") # Don't want to see the warnings in the notebook\n",
    "from sklearn import svm"
   ]
  },
  {
   "cell_type": "markdown",
   "id": "adverse-arabic",
   "metadata": {},
   "source": [
    "### 1) Importation of data base and selection of a region"
   ]
  },
  {
   "cell_type": "markdown",
   "id": "grave-ceiling",
   "metadata": {},
   "source": [
    "Importation"
   ]
  },
  {
   "cell_type": "code",
   "execution_count": 3,
   "id": "biological-mandate",
   "metadata": {},
   "outputs": [],
   "source": [
    "valeurfoncière_2016=pd.read_csv(r'C:\\Users\\33758\\Desktop\\Exam\\valeursfoncieres_2016-s2.txt',sep='|')\n",
    "valeurfoncière_2017=pd.read_csv(r'C:\\Users\\33758\\Desktop\\Exam\\valeursfoncieres_2017.txt',sep='|')\n",
    "valeurfoncière_2018=pd.read_csv(r'C:\\Users\\33758\\Desktop\\Exam\\valeursfoncieres_2018.txt',sep='|')\n",
    "valeurfoncière_2019=pd.read_csv(r'C:\\Users\\33758\\Desktop\\Exam\\valeursfoncieres_2019.txt',sep='|')\n",
    "valeurfoncière_2020=pd.read_csv(r'C:\\Users\\33758\\Desktop\\Exam\\valeursfoncieres_2020.txt',sep='|')\n",
    "valeurfoncière_2021=pd.read_csv(r'C:\\Users\\33758\\Desktop\\Exam\\valeursfoncieres_2021-s1.txt',sep='|')"
   ]
  },
  {
   "cell_type": "code",
   "execution_count": 4,
   "id": "documented-answer",
   "metadata": {},
   "outputs": [
    {
     "data": {
      "text/html": [
       "<div>\n",
       "<style scoped>\n",
       "    .dataframe tbody tr th:only-of-type {\n",
       "        vertical-align: middle;\n",
       "    }\n",
       "\n",
       "    .dataframe tbody tr th {\n",
       "        vertical-align: top;\n",
       "    }\n",
       "\n",
       "    .dataframe thead th {\n",
       "        text-align: right;\n",
       "    }\n",
       "</style>\n",
       "<table border=\"1\" class=\"dataframe\">\n",
       "  <thead>\n",
       "    <tr style=\"text-align: right;\">\n",
       "      <th></th>\n",
       "      <th>Code service CH</th>\n",
       "      <th>Reference document</th>\n",
       "      <th>1 Articles CGI</th>\n",
       "      <th>2 Articles CGI</th>\n",
       "      <th>3 Articles CGI</th>\n",
       "      <th>4 Articles CGI</th>\n",
       "      <th>5 Articles CGI</th>\n",
       "      <th>No disposition</th>\n",
       "      <th>Date mutation</th>\n",
       "      <th>Nature mutation</th>\n",
       "      <th>...</th>\n",
       "      <th>Surface Carrez du 5eme lot</th>\n",
       "      <th>Nombre de lots</th>\n",
       "      <th>Code type local</th>\n",
       "      <th>Type local</th>\n",
       "      <th>Identifiant local</th>\n",
       "      <th>Surface reelle bati</th>\n",
       "      <th>Nombre pieces principales</th>\n",
       "      <th>Nature culture</th>\n",
       "      <th>Nature culture speciale</th>\n",
       "      <th>Surface terrain</th>\n",
       "    </tr>\n",
       "  </thead>\n",
       "  <tbody>\n",
       "    <tr>\n",
       "      <th>0</th>\n",
       "      <td>NaN</td>\n",
       "      <td>NaN</td>\n",
       "      <td>NaN</td>\n",
       "      <td>NaN</td>\n",
       "      <td>NaN</td>\n",
       "      <td>NaN</td>\n",
       "      <td>NaN</td>\n",
       "      <td>1</td>\n",
       "      <td>05/07/2016</td>\n",
       "      <td>Vente</td>\n",
       "      <td>...</td>\n",
       "      <td>NaN</td>\n",
       "      <td>0</td>\n",
       "      <td>NaN</td>\n",
       "      <td>NaN</td>\n",
       "      <td>NaN</td>\n",
       "      <td>NaN</td>\n",
       "      <td>NaN</td>\n",
       "      <td>S</td>\n",
       "      <td>NaN</td>\n",
       "      <td>13.0</td>\n",
       "    </tr>\n",
       "    <tr>\n",
       "      <th>1</th>\n",
       "      <td>NaN</td>\n",
       "      <td>NaN</td>\n",
       "      <td>NaN</td>\n",
       "      <td>NaN</td>\n",
       "      <td>NaN</td>\n",
       "      <td>NaN</td>\n",
       "      <td>NaN</td>\n",
       "      <td>1</td>\n",
       "      <td>01/07/2016</td>\n",
       "      <td>Vente</td>\n",
       "      <td>...</td>\n",
       "      <td>NaN</td>\n",
       "      <td>0</td>\n",
       "      <td>1.0</td>\n",
       "      <td>Maison</td>\n",
       "      <td>NaN</td>\n",
       "      <td>12.0</td>\n",
       "      <td>0.0</td>\n",
       "      <td>S</td>\n",
       "      <td>NaN</td>\n",
       "      <td>700.0</td>\n",
       "    </tr>\n",
       "    <tr>\n",
       "      <th>2</th>\n",
       "      <td>NaN</td>\n",
       "      <td>NaN</td>\n",
       "      <td>NaN</td>\n",
       "      <td>NaN</td>\n",
       "      <td>NaN</td>\n",
       "      <td>NaN</td>\n",
       "      <td>NaN</td>\n",
       "      <td>1</td>\n",
       "      <td>01/07/2016</td>\n",
       "      <td>Vente</td>\n",
       "      <td>...</td>\n",
       "      <td>NaN</td>\n",
       "      <td>0</td>\n",
       "      <td>1.0</td>\n",
       "      <td>Maison</td>\n",
       "      <td>NaN</td>\n",
       "      <td>101.0</td>\n",
       "      <td>5.0</td>\n",
       "      <td>S</td>\n",
       "      <td>NaN</td>\n",
       "      <td>700.0</td>\n",
       "    </tr>\n",
       "  </tbody>\n",
       "</table>\n",
       "<p>3 rows × 43 columns</p>\n",
       "</div>"
      ],
      "text/plain": [
       "   Code service CH  Reference document  1 Articles CGI  2 Articles CGI  \\\n",
       "0              NaN                 NaN             NaN             NaN   \n",
       "1              NaN                 NaN             NaN             NaN   \n",
       "2              NaN                 NaN             NaN             NaN   \n",
       "\n",
       "   3 Articles CGI  4 Articles CGI  5 Articles CGI  No disposition  \\\n",
       "0             NaN             NaN             NaN               1   \n",
       "1             NaN             NaN             NaN               1   \n",
       "2             NaN             NaN             NaN               1   \n",
       "\n",
       "  Date mutation Nature mutation  ... Surface Carrez du 5eme lot  \\\n",
       "0    05/07/2016           Vente  ...                        NaN   \n",
       "1    01/07/2016           Vente  ...                        NaN   \n",
       "2    01/07/2016           Vente  ...                        NaN   \n",
       "\n",
       "   Nombre de lots Code type local Type local Identifiant local  \\\n",
       "0               0             NaN        NaN               NaN   \n",
       "1               0             1.0     Maison               NaN   \n",
       "2               0             1.0     Maison               NaN   \n",
       "\n",
       "  Surface reelle bati  Nombre pieces principales Nature culture  \\\n",
       "0                 NaN                        NaN              S   \n",
       "1                12.0                        0.0              S   \n",
       "2               101.0                        5.0              S   \n",
       "\n",
       "  Nature culture speciale  Surface terrain  \n",
       "0                     NaN             13.0  \n",
       "1                     NaN            700.0  \n",
       "2                     NaN            700.0  \n",
       "\n",
       "[3 rows x 43 columns]"
      ]
     },
     "execution_count": 4,
     "metadata": {},
     "output_type": "execute_result"
    }
   ],
   "source": [
    "valeurfoncière_2016.head(3)"
   ]
  },
  {
   "cell_type": "code",
   "execution_count": 5,
   "id": "composed-indie",
   "metadata": {},
   "outputs": [
    {
     "data": {
      "text/html": [
       "<div>\n",
       "<style scoped>\n",
       "    .dataframe tbody tr th:only-of-type {\n",
       "        vertical-align: middle;\n",
       "    }\n",
       "\n",
       "    .dataframe tbody tr th {\n",
       "        vertical-align: top;\n",
       "    }\n",
       "\n",
       "    .dataframe thead th {\n",
       "        text-align: right;\n",
       "    }\n",
       "</style>\n",
       "<table border=\"1\" class=\"dataframe\">\n",
       "  <thead>\n",
       "    <tr style=\"text-align: right;\">\n",
       "      <th></th>\n",
       "      <th>Code service CH</th>\n",
       "      <th>Reference document</th>\n",
       "      <th>1 Articles CGI</th>\n",
       "      <th>2 Articles CGI</th>\n",
       "      <th>3 Articles CGI</th>\n",
       "      <th>4 Articles CGI</th>\n",
       "      <th>5 Articles CGI</th>\n",
       "      <th>No disposition</th>\n",
       "      <th>Date mutation</th>\n",
       "      <th>Nature mutation</th>\n",
       "      <th>...</th>\n",
       "      <th>Surface Carrez du 5eme lot</th>\n",
       "      <th>Nombre de lots</th>\n",
       "      <th>Code type local</th>\n",
       "      <th>Type local</th>\n",
       "      <th>Identifiant local</th>\n",
       "      <th>Surface reelle bati</th>\n",
       "      <th>Nombre pieces principales</th>\n",
       "      <th>Nature culture</th>\n",
       "      <th>Nature culture speciale</th>\n",
       "      <th>Surface terrain</th>\n",
       "    </tr>\n",
       "  </thead>\n",
       "  <tbody>\n",
       "    <tr>\n",
       "      <th>0</th>\n",
       "      <td>NaN</td>\n",
       "      <td>NaN</td>\n",
       "      <td>NaN</td>\n",
       "      <td>NaN</td>\n",
       "      <td>NaN</td>\n",
       "      <td>NaN</td>\n",
       "      <td>NaN</td>\n",
       "      <td>1</td>\n",
       "      <td>02/01/2017</td>\n",
       "      <td>Vente</td>\n",
       "      <td>...</td>\n",
       "      <td>NaN</td>\n",
       "      <td>2</td>\n",
       "      <td>2.0</td>\n",
       "      <td>Appartement</td>\n",
       "      <td>NaN</td>\n",
       "      <td>37.0</td>\n",
       "      <td>2.0</td>\n",
       "      <td>NaN</td>\n",
       "      <td>NaN</td>\n",
       "      <td>NaN</td>\n",
       "    </tr>\n",
       "    <tr>\n",
       "      <th>1</th>\n",
       "      <td>NaN</td>\n",
       "      <td>NaN</td>\n",
       "      <td>NaN</td>\n",
       "      <td>NaN</td>\n",
       "      <td>NaN</td>\n",
       "      <td>NaN</td>\n",
       "      <td>NaN</td>\n",
       "      <td>1</td>\n",
       "      <td>05/01/2017</td>\n",
       "      <td>Vente</td>\n",
       "      <td>...</td>\n",
       "      <td>NaN</td>\n",
       "      <td>0</td>\n",
       "      <td>NaN</td>\n",
       "      <td>NaN</td>\n",
       "      <td>NaN</td>\n",
       "      <td>NaN</td>\n",
       "      <td>NaN</td>\n",
       "      <td>AB</td>\n",
       "      <td>NaN</td>\n",
       "      <td>788.0</td>\n",
       "    </tr>\n",
       "    <tr>\n",
       "      <th>2</th>\n",
       "      <td>NaN</td>\n",
       "      <td>NaN</td>\n",
       "      <td>NaN</td>\n",
       "      <td>NaN</td>\n",
       "      <td>NaN</td>\n",
       "      <td>NaN</td>\n",
       "      <td>NaN</td>\n",
       "      <td>1</td>\n",
       "      <td>06/01/2017</td>\n",
       "      <td>Vente</td>\n",
       "      <td>...</td>\n",
       "      <td>NaN</td>\n",
       "      <td>0</td>\n",
       "      <td>NaN</td>\n",
       "      <td>NaN</td>\n",
       "      <td>NaN</td>\n",
       "      <td>NaN</td>\n",
       "      <td>NaN</td>\n",
       "      <td>P</td>\n",
       "      <td>NaN</td>\n",
       "      <td>42.0</td>\n",
       "    </tr>\n",
       "  </tbody>\n",
       "</table>\n",
       "<p>3 rows × 43 columns</p>\n",
       "</div>"
      ],
      "text/plain": [
       "   Code service CH  Reference document  1 Articles CGI  2 Articles CGI  \\\n",
       "0              NaN                 NaN             NaN             NaN   \n",
       "1              NaN                 NaN             NaN             NaN   \n",
       "2              NaN                 NaN             NaN             NaN   \n",
       "\n",
       "   3 Articles CGI  4 Articles CGI  5 Articles CGI  No disposition  \\\n",
       "0             NaN             NaN             NaN               1   \n",
       "1             NaN             NaN             NaN               1   \n",
       "2             NaN             NaN             NaN               1   \n",
       "\n",
       "  Date mutation Nature mutation  ... Surface Carrez du 5eme lot  \\\n",
       "0    02/01/2017           Vente  ...                        NaN   \n",
       "1    05/01/2017           Vente  ...                        NaN   \n",
       "2    06/01/2017           Vente  ...                        NaN   \n",
       "\n",
       "   Nombre de lots Code type local   Type local Identifiant local  \\\n",
       "0               2             2.0  Appartement               NaN   \n",
       "1               0             NaN          NaN               NaN   \n",
       "2               0             NaN          NaN               NaN   \n",
       "\n",
       "  Surface reelle bati  Nombre pieces principales Nature culture  \\\n",
       "0                37.0                        2.0            NaN   \n",
       "1                 NaN                        NaN             AB   \n",
       "2                 NaN                        NaN              P   \n",
       "\n",
       "  Nature culture speciale  Surface terrain  \n",
       "0                     NaN              NaN  \n",
       "1                     NaN            788.0  \n",
       "2                     NaN             42.0  \n",
       "\n",
       "[3 rows x 43 columns]"
      ]
     },
     "execution_count": 5,
     "metadata": {},
     "output_type": "execute_result"
    }
   ],
   "source": [
    "valeurfoncière_2017.head(3)"
   ]
  },
  {
   "cell_type": "code",
   "execution_count": 6,
   "id": "recognized-oriental",
   "metadata": {},
   "outputs": [
    {
     "data": {
      "text/html": [
       "<div>\n",
       "<style scoped>\n",
       "    .dataframe tbody tr th:only-of-type {\n",
       "        vertical-align: middle;\n",
       "    }\n",
       "\n",
       "    .dataframe tbody tr th {\n",
       "        vertical-align: top;\n",
       "    }\n",
       "\n",
       "    .dataframe thead th {\n",
       "        text-align: right;\n",
       "    }\n",
       "</style>\n",
       "<table border=\"1\" class=\"dataframe\">\n",
       "  <thead>\n",
       "    <tr style=\"text-align: right;\">\n",
       "      <th></th>\n",
       "      <th>Code service CH</th>\n",
       "      <th>Reference document</th>\n",
       "      <th>1 Articles CGI</th>\n",
       "      <th>2 Articles CGI</th>\n",
       "      <th>3 Articles CGI</th>\n",
       "      <th>4 Articles CGI</th>\n",
       "      <th>5 Articles CGI</th>\n",
       "      <th>No disposition</th>\n",
       "      <th>Date mutation</th>\n",
       "      <th>Nature mutation</th>\n",
       "      <th>...</th>\n",
       "      <th>Surface Carrez du 5eme lot</th>\n",
       "      <th>Nombre de lots</th>\n",
       "      <th>Code type local</th>\n",
       "      <th>Type local</th>\n",
       "      <th>Identifiant local</th>\n",
       "      <th>Surface reelle bati</th>\n",
       "      <th>Nombre pieces principales</th>\n",
       "      <th>Nature culture</th>\n",
       "      <th>Nature culture speciale</th>\n",
       "      <th>Surface terrain</th>\n",
       "    </tr>\n",
       "  </thead>\n",
       "  <tbody>\n",
       "    <tr>\n",
       "      <th>0</th>\n",
       "      <td>NaN</td>\n",
       "      <td>NaN</td>\n",
       "      <td>NaN</td>\n",
       "      <td>NaN</td>\n",
       "      <td>NaN</td>\n",
       "      <td>NaN</td>\n",
       "      <td>NaN</td>\n",
       "      <td>1</td>\n",
       "      <td>03/01/2018</td>\n",
       "      <td>Vente</td>\n",
       "      <td>...</td>\n",
       "      <td>NaN</td>\n",
       "      <td>1</td>\n",
       "      <td>3.0</td>\n",
       "      <td>Dépendance</td>\n",
       "      <td>NaN</td>\n",
       "      <td>0.0</td>\n",
       "      <td>0.0</td>\n",
       "      <td>NaN</td>\n",
       "      <td>NaN</td>\n",
       "      <td>NaN</td>\n",
       "    </tr>\n",
       "    <tr>\n",
       "      <th>1</th>\n",
       "      <td>NaN</td>\n",
       "      <td>NaN</td>\n",
       "      <td>NaN</td>\n",
       "      <td>NaN</td>\n",
       "      <td>NaN</td>\n",
       "      <td>NaN</td>\n",
       "      <td>NaN</td>\n",
       "      <td>1</td>\n",
       "      <td>03/01/2018</td>\n",
       "      <td>Vente</td>\n",
       "      <td>...</td>\n",
       "      <td>NaN</td>\n",
       "      <td>2</td>\n",
       "      <td>2.0</td>\n",
       "      <td>Appartement</td>\n",
       "      <td>NaN</td>\n",
       "      <td>73.0</td>\n",
       "      <td>4.0</td>\n",
       "      <td>NaN</td>\n",
       "      <td>NaN</td>\n",
       "      <td>NaN</td>\n",
       "    </tr>\n",
       "    <tr>\n",
       "      <th>2</th>\n",
       "      <td>NaN</td>\n",
       "      <td>NaN</td>\n",
       "      <td>NaN</td>\n",
       "      <td>NaN</td>\n",
       "      <td>NaN</td>\n",
       "      <td>NaN</td>\n",
       "      <td>NaN</td>\n",
       "      <td>1</td>\n",
       "      <td>04/01/2018</td>\n",
       "      <td>Vente</td>\n",
       "      <td>...</td>\n",
       "      <td>NaN</td>\n",
       "      <td>0</td>\n",
       "      <td>1.0</td>\n",
       "      <td>Maison</td>\n",
       "      <td>NaN</td>\n",
       "      <td>163.0</td>\n",
       "      <td>4.0</td>\n",
       "      <td>S</td>\n",
       "      <td>NaN</td>\n",
       "      <td>949.0</td>\n",
       "    </tr>\n",
       "  </tbody>\n",
       "</table>\n",
       "<p>3 rows × 43 columns</p>\n",
       "</div>"
      ],
      "text/plain": [
       "   Code service CH  Reference document  1 Articles CGI  2 Articles CGI  \\\n",
       "0              NaN                 NaN             NaN             NaN   \n",
       "1              NaN                 NaN             NaN             NaN   \n",
       "2              NaN                 NaN             NaN             NaN   \n",
       "\n",
       "   3 Articles CGI  4 Articles CGI  5 Articles CGI  No disposition  \\\n",
       "0             NaN             NaN             NaN               1   \n",
       "1             NaN             NaN             NaN               1   \n",
       "2             NaN             NaN             NaN               1   \n",
       "\n",
       "  Date mutation Nature mutation  ... Surface Carrez du 5eme lot  \\\n",
       "0    03/01/2018           Vente  ...                        NaN   \n",
       "1    03/01/2018           Vente  ...                        NaN   \n",
       "2    04/01/2018           Vente  ...                        NaN   \n",
       "\n",
       "   Nombre de lots Code type local   Type local Identifiant local  \\\n",
       "0               1             3.0   Dépendance               NaN   \n",
       "1               2             2.0  Appartement               NaN   \n",
       "2               0             1.0       Maison               NaN   \n",
       "\n",
       "  Surface reelle bati  Nombre pieces principales Nature culture  \\\n",
       "0                 0.0                        0.0            NaN   \n",
       "1                73.0                        4.0            NaN   \n",
       "2               163.0                        4.0              S   \n",
       "\n",
       "  Nature culture speciale  Surface terrain  \n",
       "0                     NaN              NaN  \n",
       "1                     NaN              NaN  \n",
       "2                     NaN            949.0  \n",
       "\n",
       "[3 rows x 43 columns]"
      ]
     },
     "execution_count": 6,
     "metadata": {},
     "output_type": "execute_result"
    }
   ],
   "source": [
    "valeurfoncière_2018.head(3)"
   ]
  },
  {
   "cell_type": "code",
   "execution_count": 7,
   "id": "shaped-operation",
   "metadata": {},
   "outputs": [
    {
     "data": {
      "text/html": [
       "<div>\n",
       "<style scoped>\n",
       "    .dataframe tbody tr th:only-of-type {\n",
       "        vertical-align: middle;\n",
       "    }\n",
       "\n",
       "    .dataframe tbody tr th {\n",
       "        vertical-align: top;\n",
       "    }\n",
       "\n",
       "    .dataframe thead th {\n",
       "        text-align: right;\n",
       "    }\n",
       "</style>\n",
       "<table border=\"1\" class=\"dataframe\">\n",
       "  <thead>\n",
       "    <tr style=\"text-align: right;\">\n",
       "      <th></th>\n",
       "      <th>Code service CH</th>\n",
       "      <th>Reference document</th>\n",
       "      <th>1 Articles CGI</th>\n",
       "      <th>2 Articles CGI</th>\n",
       "      <th>3 Articles CGI</th>\n",
       "      <th>4 Articles CGI</th>\n",
       "      <th>5 Articles CGI</th>\n",
       "      <th>No disposition</th>\n",
       "      <th>Date mutation</th>\n",
       "      <th>Nature mutation</th>\n",
       "      <th>...</th>\n",
       "      <th>Surface Carrez du 5eme lot</th>\n",
       "      <th>Nombre de lots</th>\n",
       "      <th>Code type local</th>\n",
       "      <th>Type local</th>\n",
       "      <th>Identifiant local</th>\n",
       "      <th>Surface reelle bati</th>\n",
       "      <th>Nombre pieces principales</th>\n",
       "      <th>Nature culture</th>\n",
       "      <th>Nature culture speciale</th>\n",
       "      <th>Surface terrain</th>\n",
       "    </tr>\n",
       "  </thead>\n",
       "  <tbody>\n",
       "    <tr>\n",
       "      <th>0</th>\n",
       "      <td>NaN</td>\n",
       "      <td>NaN</td>\n",
       "      <td>NaN</td>\n",
       "      <td>NaN</td>\n",
       "      <td>NaN</td>\n",
       "      <td>NaN</td>\n",
       "      <td>NaN</td>\n",
       "      <td>1</td>\n",
       "      <td>04/01/2019</td>\n",
       "      <td>Vente</td>\n",
       "      <td>...</td>\n",
       "      <td>NaN</td>\n",
       "      <td>1</td>\n",
       "      <td>2.0</td>\n",
       "      <td>Appartement</td>\n",
       "      <td>NaN</td>\n",
       "      <td>20.0</td>\n",
       "      <td>1.0</td>\n",
       "      <td>NaN</td>\n",
       "      <td>NaN</td>\n",
       "      <td>NaN</td>\n",
       "    </tr>\n",
       "    <tr>\n",
       "      <th>1</th>\n",
       "      <td>NaN</td>\n",
       "      <td>NaN</td>\n",
       "      <td>NaN</td>\n",
       "      <td>NaN</td>\n",
       "      <td>NaN</td>\n",
       "      <td>NaN</td>\n",
       "      <td>NaN</td>\n",
       "      <td>1</td>\n",
       "      <td>04/01/2019</td>\n",
       "      <td>Vente</td>\n",
       "      <td>...</td>\n",
       "      <td>NaN</td>\n",
       "      <td>2</td>\n",
       "      <td>2.0</td>\n",
       "      <td>Appartement</td>\n",
       "      <td>NaN</td>\n",
       "      <td>62.0</td>\n",
       "      <td>3.0</td>\n",
       "      <td>NaN</td>\n",
       "      <td>NaN</td>\n",
       "      <td>NaN</td>\n",
       "    </tr>\n",
       "    <tr>\n",
       "      <th>2</th>\n",
       "      <td>NaN</td>\n",
       "      <td>NaN</td>\n",
       "      <td>NaN</td>\n",
       "      <td>NaN</td>\n",
       "      <td>NaN</td>\n",
       "      <td>NaN</td>\n",
       "      <td>NaN</td>\n",
       "      <td>1</td>\n",
       "      <td>04/01/2019</td>\n",
       "      <td>Vente</td>\n",
       "      <td>...</td>\n",
       "      <td>NaN</td>\n",
       "      <td>1</td>\n",
       "      <td>3.0</td>\n",
       "      <td>Dépendance</td>\n",
       "      <td>NaN</td>\n",
       "      <td>0.0</td>\n",
       "      <td>0.0</td>\n",
       "      <td>NaN</td>\n",
       "      <td>NaN</td>\n",
       "      <td>NaN</td>\n",
       "    </tr>\n",
       "  </tbody>\n",
       "</table>\n",
       "<p>3 rows × 43 columns</p>\n",
       "</div>"
      ],
      "text/plain": [
       "   Code service CH  Reference document  1 Articles CGI  2 Articles CGI  \\\n",
       "0              NaN                 NaN             NaN             NaN   \n",
       "1              NaN                 NaN             NaN             NaN   \n",
       "2              NaN                 NaN             NaN             NaN   \n",
       "\n",
       "   3 Articles CGI  4 Articles CGI  5 Articles CGI  No disposition  \\\n",
       "0             NaN             NaN             NaN               1   \n",
       "1             NaN             NaN             NaN               1   \n",
       "2             NaN             NaN             NaN               1   \n",
       "\n",
       "  Date mutation Nature mutation  ... Surface Carrez du 5eme lot  \\\n",
       "0    04/01/2019           Vente  ...                        NaN   \n",
       "1    04/01/2019           Vente  ...                        NaN   \n",
       "2    04/01/2019           Vente  ...                        NaN   \n",
       "\n",
       "   Nombre de lots Code type local   Type local Identifiant local  \\\n",
       "0               1             2.0  Appartement               NaN   \n",
       "1               2             2.0  Appartement               NaN   \n",
       "2               1             3.0   Dépendance               NaN   \n",
       "\n",
       "  Surface reelle bati  Nombre pieces principales Nature culture  \\\n",
       "0                20.0                        1.0            NaN   \n",
       "1                62.0                        3.0            NaN   \n",
       "2                 0.0                        0.0            NaN   \n",
       "\n",
       "  Nature culture speciale  Surface terrain  \n",
       "0                     NaN              NaN  \n",
       "1                     NaN              NaN  \n",
       "2                     NaN              NaN  \n",
       "\n",
       "[3 rows x 43 columns]"
      ]
     },
     "execution_count": 7,
     "metadata": {},
     "output_type": "execute_result"
    }
   ],
   "source": [
    "valeurfoncière_2019.head(3)"
   ]
  },
  {
   "cell_type": "code",
   "execution_count": 8,
   "id": "broken-remedy",
   "metadata": {},
   "outputs": [
    {
     "data": {
      "text/html": [
       "<div>\n",
       "<style scoped>\n",
       "    .dataframe tbody tr th:only-of-type {\n",
       "        vertical-align: middle;\n",
       "    }\n",
       "\n",
       "    .dataframe tbody tr th {\n",
       "        vertical-align: top;\n",
       "    }\n",
       "\n",
       "    .dataframe thead th {\n",
       "        text-align: right;\n",
       "    }\n",
       "</style>\n",
       "<table border=\"1\" class=\"dataframe\">\n",
       "  <thead>\n",
       "    <tr style=\"text-align: right;\">\n",
       "      <th></th>\n",
       "      <th>Code service CH</th>\n",
       "      <th>Reference document</th>\n",
       "      <th>1 Articles CGI</th>\n",
       "      <th>2 Articles CGI</th>\n",
       "      <th>3 Articles CGI</th>\n",
       "      <th>4 Articles CGI</th>\n",
       "      <th>5 Articles CGI</th>\n",
       "      <th>No disposition</th>\n",
       "      <th>Date mutation</th>\n",
       "      <th>Nature mutation</th>\n",
       "      <th>...</th>\n",
       "      <th>Surface Carrez du 5eme lot</th>\n",
       "      <th>Nombre de lots</th>\n",
       "      <th>Code type local</th>\n",
       "      <th>Type local</th>\n",
       "      <th>Identifiant local</th>\n",
       "      <th>Surface reelle bati</th>\n",
       "      <th>Nombre pieces principales</th>\n",
       "      <th>Nature culture</th>\n",
       "      <th>Nature culture speciale</th>\n",
       "      <th>Surface terrain</th>\n",
       "    </tr>\n",
       "  </thead>\n",
       "  <tbody>\n",
       "    <tr>\n",
       "      <th>0</th>\n",
       "      <td>NaN</td>\n",
       "      <td>NaN</td>\n",
       "      <td>NaN</td>\n",
       "      <td>NaN</td>\n",
       "      <td>NaN</td>\n",
       "      <td>NaN</td>\n",
       "      <td>NaN</td>\n",
       "      <td>1</td>\n",
       "      <td>07/01/2020</td>\n",
       "      <td>Vente</td>\n",
       "      <td>...</td>\n",
       "      <td>NaN</td>\n",
       "      <td>0</td>\n",
       "      <td>NaN</td>\n",
       "      <td>NaN</td>\n",
       "      <td>NaN</td>\n",
       "      <td>NaN</td>\n",
       "      <td>NaN</td>\n",
       "      <td>T</td>\n",
       "      <td>NaN</td>\n",
       "      <td>1061.0</td>\n",
       "    </tr>\n",
       "    <tr>\n",
       "      <th>1</th>\n",
       "      <td>NaN</td>\n",
       "      <td>NaN</td>\n",
       "      <td>NaN</td>\n",
       "      <td>NaN</td>\n",
       "      <td>NaN</td>\n",
       "      <td>NaN</td>\n",
       "      <td>NaN</td>\n",
       "      <td>1</td>\n",
       "      <td>02/01/2020</td>\n",
       "      <td>Vente</td>\n",
       "      <td>...</td>\n",
       "      <td>NaN</td>\n",
       "      <td>0</td>\n",
       "      <td>NaN</td>\n",
       "      <td>NaN</td>\n",
       "      <td>NaN</td>\n",
       "      <td>NaN</td>\n",
       "      <td>NaN</td>\n",
       "      <td>BT</td>\n",
       "      <td>NaN</td>\n",
       "      <td>85.0</td>\n",
       "    </tr>\n",
       "    <tr>\n",
       "      <th>2</th>\n",
       "      <td>NaN</td>\n",
       "      <td>NaN</td>\n",
       "      <td>NaN</td>\n",
       "      <td>NaN</td>\n",
       "      <td>NaN</td>\n",
       "      <td>NaN</td>\n",
       "      <td>NaN</td>\n",
       "      <td>1</td>\n",
       "      <td>02/01/2020</td>\n",
       "      <td>Vente</td>\n",
       "      <td>...</td>\n",
       "      <td>NaN</td>\n",
       "      <td>0</td>\n",
       "      <td>NaN</td>\n",
       "      <td>NaN</td>\n",
       "      <td>NaN</td>\n",
       "      <td>NaN</td>\n",
       "      <td>NaN</td>\n",
       "      <td>T</td>\n",
       "      <td>NaN</td>\n",
       "      <td>1115.0</td>\n",
       "    </tr>\n",
       "  </tbody>\n",
       "</table>\n",
       "<p>3 rows × 43 columns</p>\n",
       "</div>"
      ],
      "text/plain": [
       "   Code service CH  Reference document  1 Articles CGI  2 Articles CGI  \\\n",
       "0              NaN                 NaN             NaN             NaN   \n",
       "1              NaN                 NaN             NaN             NaN   \n",
       "2              NaN                 NaN             NaN             NaN   \n",
       "\n",
       "   3 Articles CGI  4 Articles CGI  5 Articles CGI  No disposition  \\\n",
       "0             NaN             NaN             NaN               1   \n",
       "1             NaN             NaN             NaN               1   \n",
       "2             NaN             NaN             NaN               1   \n",
       "\n",
       "  Date mutation Nature mutation  ... Surface Carrez du 5eme lot  \\\n",
       "0    07/01/2020           Vente  ...                        NaN   \n",
       "1    02/01/2020           Vente  ...                        NaN   \n",
       "2    02/01/2020           Vente  ...                        NaN   \n",
       "\n",
       "   Nombre de lots Code type local Type local Identifiant local  \\\n",
       "0               0             NaN        NaN               NaN   \n",
       "1               0             NaN        NaN               NaN   \n",
       "2               0             NaN        NaN               NaN   \n",
       "\n",
       "  Surface reelle bati  Nombre pieces principales Nature culture  \\\n",
       "0                 NaN                        NaN              T   \n",
       "1                 NaN                        NaN             BT   \n",
       "2                 NaN                        NaN              T   \n",
       "\n",
       "  Nature culture speciale  Surface terrain  \n",
       "0                     NaN           1061.0  \n",
       "1                     NaN             85.0  \n",
       "2                     NaN           1115.0  \n",
       "\n",
       "[3 rows x 43 columns]"
      ]
     },
     "execution_count": 8,
     "metadata": {},
     "output_type": "execute_result"
    }
   ],
   "source": [
    "valeurfoncière_2020.head(3)"
   ]
  },
  {
   "cell_type": "code",
   "execution_count": 9,
   "id": "aware-hebrew",
   "metadata": {},
   "outputs": [
    {
     "data": {
      "text/html": [
       "<div>\n",
       "<style scoped>\n",
       "    .dataframe tbody tr th:only-of-type {\n",
       "        vertical-align: middle;\n",
       "    }\n",
       "\n",
       "    .dataframe tbody tr th {\n",
       "        vertical-align: top;\n",
       "    }\n",
       "\n",
       "    .dataframe thead th {\n",
       "        text-align: right;\n",
       "    }\n",
       "</style>\n",
       "<table border=\"1\" class=\"dataframe\">\n",
       "  <thead>\n",
       "    <tr style=\"text-align: right;\">\n",
       "      <th></th>\n",
       "      <th>Code service CH</th>\n",
       "      <th>Reference document</th>\n",
       "      <th>1 Articles CGI</th>\n",
       "      <th>2 Articles CGI</th>\n",
       "      <th>3 Articles CGI</th>\n",
       "      <th>4 Articles CGI</th>\n",
       "      <th>5 Articles CGI</th>\n",
       "      <th>No disposition</th>\n",
       "      <th>Date mutation</th>\n",
       "      <th>Nature mutation</th>\n",
       "      <th>...</th>\n",
       "      <th>Surface Carrez du 5eme lot</th>\n",
       "      <th>Nombre de lots</th>\n",
       "      <th>Code type local</th>\n",
       "      <th>Type local</th>\n",
       "      <th>Identifiant local</th>\n",
       "      <th>Surface reelle bati</th>\n",
       "      <th>Nombre pieces principales</th>\n",
       "      <th>Nature culture</th>\n",
       "      <th>Nature culture speciale</th>\n",
       "      <th>Surface terrain</th>\n",
       "    </tr>\n",
       "  </thead>\n",
       "  <tbody>\n",
       "    <tr>\n",
       "      <th>0</th>\n",
       "      <td>NaN</td>\n",
       "      <td>NaN</td>\n",
       "      <td>NaN</td>\n",
       "      <td>NaN</td>\n",
       "      <td>NaN</td>\n",
       "      <td>NaN</td>\n",
       "      <td>NaN</td>\n",
       "      <td>1</td>\n",
       "      <td>05/01/2021</td>\n",
       "      <td>Vente</td>\n",
       "      <td>...</td>\n",
       "      <td>NaN</td>\n",
       "      <td>0</td>\n",
       "      <td>1.0</td>\n",
       "      <td>Maison</td>\n",
       "      <td>NaN</td>\n",
       "      <td>97.0</td>\n",
       "      <td>5.0</td>\n",
       "      <td>S</td>\n",
       "      <td>NaN</td>\n",
       "      <td>2410.0</td>\n",
       "    </tr>\n",
       "    <tr>\n",
       "      <th>1</th>\n",
       "      <td>NaN</td>\n",
       "      <td>NaN</td>\n",
       "      <td>NaN</td>\n",
       "      <td>NaN</td>\n",
       "      <td>NaN</td>\n",
       "      <td>NaN</td>\n",
       "      <td>NaN</td>\n",
       "      <td>1</td>\n",
       "      <td>05/01/2021</td>\n",
       "      <td>Vente</td>\n",
       "      <td>...</td>\n",
       "      <td>NaN</td>\n",
       "      <td>0</td>\n",
       "      <td>3.0</td>\n",
       "      <td>Dépendance</td>\n",
       "      <td>NaN</td>\n",
       "      <td>0.0</td>\n",
       "      <td>0.0</td>\n",
       "      <td>S</td>\n",
       "      <td>NaN</td>\n",
       "      <td>2410.0</td>\n",
       "    </tr>\n",
       "    <tr>\n",
       "      <th>2</th>\n",
       "      <td>NaN</td>\n",
       "      <td>NaN</td>\n",
       "      <td>NaN</td>\n",
       "      <td>NaN</td>\n",
       "      <td>NaN</td>\n",
       "      <td>NaN</td>\n",
       "      <td>NaN</td>\n",
       "      <td>1</td>\n",
       "      <td>06/01/2021</td>\n",
       "      <td>Vente</td>\n",
       "      <td>...</td>\n",
       "      <td>NaN</td>\n",
       "      <td>0</td>\n",
       "      <td>NaN</td>\n",
       "      <td>NaN</td>\n",
       "      <td>NaN</td>\n",
       "      <td>NaN</td>\n",
       "      <td>NaN</td>\n",
       "      <td>BT</td>\n",
       "      <td>NaN</td>\n",
       "      <td>530.0</td>\n",
       "    </tr>\n",
       "  </tbody>\n",
       "</table>\n",
       "<p>3 rows × 43 columns</p>\n",
       "</div>"
      ],
      "text/plain": [
       "   Code service CH  Reference document  1 Articles CGI  2 Articles CGI  \\\n",
       "0              NaN                 NaN             NaN             NaN   \n",
       "1              NaN                 NaN             NaN             NaN   \n",
       "2              NaN                 NaN             NaN             NaN   \n",
       "\n",
       "   3 Articles CGI  4 Articles CGI  5 Articles CGI  No disposition  \\\n",
       "0             NaN             NaN             NaN               1   \n",
       "1             NaN             NaN             NaN               1   \n",
       "2             NaN             NaN             NaN               1   \n",
       "\n",
       "  Date mutation Nature mutation  ... Surface Carrez du 5eme lot  \\\n",
       "0    05/01/2021           Vente  ...                        NaN   \n",
       "1    05/01/2021           Vente  ...                        NaN   \n",
       "2    06/01/2021           Vente  ...                        NaN   \n",
       "\n",
       "   Nombre de lots Code type local  Type local Identifiant local  \\\n",
       "0               0             1.0      Maison               NaN   \n",
       "1               0             3.0  Dépendance               NaN   \n",
       "2               0             NaN         NaN               NaN   \n",
       "\n",
       "  Surface reelle bati  Nombre pieces principales Nature culture  \\\n",
       "0                97.0                        5.0              S   \n",
       "1                 0.0                        0.0              S   \n",
       "2                 NaN                        NaN             BT   \n",
       "\n",
       "  Nature culture speciale  Surface terrain  \n",
       "0                     NaN           2410.0  \n",
       "1                     NaN           2410.0  \n",
       "2                     NaN            530.0  \n",
       "\n",
       "[3 rows x 43 columns]"
      ]
     },
     "execution_count": 9,
     "metadata": {},
     "output_type": "execute_result"
    }
   ],
   "source": [
    "valeurfoncière_2021.head(3)"
   ]
  },
  {
   "cell_type": "markdown",
   "id": "piano-azerbaijan",
   "metadata": {},
   "source": [
    "### 2-1) Designing the datatabase"
   ]
  },
  {
   "cell_type": "markdown",
   "id": "incident-potato",
   "metadata": {},
   "source": [
    "We have separated the database into 4 tables:\n",
    "-The first table called Locatilisation containing all the variables to locate or situate the land, apartment or house and having for primary key the department code\n",
    "\n",
    "-The  second table called Mutation containing all the necessary information concerning the sale, or any other operation carried out on the land, the house or the apartment, this table has for primary key id of the mutation, this varibale is not in the database, but we think that it would be interesting to have a unique idendifiant associated with each operation, that will allow to find each operation details.\n",
    "\n",
    "-The third table called Local Characteristic contains all the characteristics of the land, house or apartment, the primary key of this table is local id. \n",
    "\n",
    "-The last table Administration is the table that contains all the information related to the administrative documents of the houses or lands, the primary key is code service CH. \n",
    "\n",
    "All these tables are linked together by the id local"
   ]
  },
  {
   "cell_type": "code",
   "execution_count": 10,
   "id": "immune-rubber",
   "metadata": {},
   "outputs": [],
   "source": [
    "from IPython.display import Image"
   ]
  },
  {
   "cell_type": "markdown",
   "id": "warming-remedy",
   "metadata": {},
   "source": [
    "#### Design"
   ]
  },
  {
   "cell_type": "code",
   "execution_count": 11,
   "id": "architectural-offer",
   "metadata": {},
   "outputs": [
    {
     "data": {
      "image/png": "[encoded data removed]",
      "text/plain": [
       "<IPython.core.display.Image object>"
      ]
     },
     "execution_count": 11,
     "metadata": {},
     "output_type": "execute_result"
    }
   ],
   "source": [
    "Image (filename= r'C:\\Users\\33758\\Desktop\\Exam\\Disign.png')"
   ]
  },
  {
   "cell_type": "markdown",
   "id": "passing-leader",
   "metadata": {},
   "source": [
    "#### Description of columns and theirs types "
   ]
  },
  {
   "cell_type": "code",
   "execution_count": 12,
   "id": "drawn-turkey",
   "metadata": {},
   "outputs": [
    {
     "data": {
      "image/png": "[encoded data removed]",
      "text/plain": [
       "<IPython.core.display.Image object>"
      ]
     },
     "execution_count": 12,
     "metadata": {},
     "output_type": "execute_result"
    }
   ],
   "source": [
    "Image (filename= r'C:\\Users\\33758\\Desktop\\Exam\\Designs.png')"
   ]
  },
  {
   "cell_type": "markdown",
   "id": "referenced-helping",
   "metadata": {},
   "source": [
    "### SQL query "
   ]
  },
  {
   "cell_type": "code",
   "execution_count": 13,
   "id": "statistical-microphone",
   "metadata": {},
   "outputs": [
    {
     "name": "stdout",
     "output_type": "stream",
     "text": [
      "read function: \n",
      "********************************Importation of database:********************************************\n",
      "\n",
      "CREATE DATABASE Projet;\n",
      "USE Projet;\n",
      "CREATE TABLE Base \n",
      "(CODE_service_CH float(10),\n",
      "Reference_document float(10),\n",
      "1_Articles_CGI float(10),\n",
      "2_Articles_CGI float(10),\n",
      "3_Articles_CGI float(10),\n",
      "4_Articles_CGI FLOAT (10),\n",
      "5_Articles_CGI FLOAT (10),\n",
      "No_disposition INT (10), \n",
      "Date_mutation VARCHAR(10),\n",
      "Nature_mutation VARCHAR(50),\n",
      "Valeur_fonciere VARCHAR(10),\n",
      "No_voie float(10),\n",
      "B_T_Q VARCHAR (10),\n",
      "Type_de_voie VARCHAR(50),\n",
      "Code_voie VARCHAR(10),\n",
      "Voie VARCHAR(50),\n",
      "Code_postal FLOAT(20),\n",
      "Commune VARCHAR(50),\n",
      "Code_departement VARCHAR(20),\n",
      "Code_commune INT(20),\n",
      "Prefixe_de_section float(20),\n",
      "Section VARCHAR(20),\n",
      "No_plan INT(20),\n",
      "No_Volume VARCHAR(20),\n",
      "1er_lot VARCHAR(20),\n",
      "Surface_Carrez_du_1er_lot VARCHAR(20),\n",
      "2eme_lot VARCHAR(20),\n",
      "Surface_Carrez_du_2eme_lot VARCHAR(20),\n",
      "3eme_lot VARCHAR(20),\n",
      "Surface_Carrezu_du_3eme_lot VARCHAR(20),\n",
      "4eme_lot VARCHAR(20),\n",
      "Surface_Carrez_du_4eme_lot VARCHAR(20),\n",
      "5eme_lot VARCHAR(20),\n",
      "Surface_Carrez_du_5eme_lot VARCHAR(20),\n",
      "Nombre_de_lots INT(20),\n",
      "Code_type_local float(20),\n",
      "Type_local VARCHAR(50),\n",
      "Identifiant_local float(20),\n",
      "Surface_reelle_bati float(20),\n",
      "Nombre_pieces_principales float(20),\n",
      "Nature_culture VARCHAR(20),importation\n",
      "Nature_culture_speciale VARCHAR(20),\n",
      "Surface_terrain float(50));\n",
      "\n",
      "LOAD DATA LOCAL INFILE 'C:/Users/33758/Desktop/Exam/valeursfoncieres_2017.txt'\n",
      "INTO ValeurS_fonciÃ¨re_2017 (for exemple )\n",
      "\n",
      "************Creation different table*****************************************************\n",
      "**********Table Localisation**********\n",
      "1st step:Creation\n",
      "Use projet;\n",
      "Create table Localisation(Code_postal int PRIMARY KEY, \n",
      "Commune varchar (50), \n",
      "Id _local int \n",
      "Code_voie int , \n",
      "Numero_voie int,\n",
      "Type_de_voie int,\n",
      "Departement varchar(50))\n",
      "\n",
      "2nd step: Insertion \n",
      "Insert into Localisation \n",
      "Select Code_postal ,\n",
      "Commune, Id local , \n",
      "Code voie , \n",
      "Numero voie,\n",
      "Type de voie,\n",
      "Code postal,\n",
      "Commune,\n",
      "Departement \n",
      "from Base\n",
      "Group by Id local;\n",
      "\n",
      "\n",
      "**********Table Characteristic of local**********\n",
      "1rst Step: Creation \n",
      "Use Projet \n",
      "Create table Characteristique_of_local(Id_local int PRIMARY KEY,\n",
      "Type_local Varchar(50)\n",
      "Surface_reelle_batis int,\n",
      "Nombre_pieces_principales int,\n",
      "Nature_culture_special int,\n",
      "Surface_terrain int,\n",
      "1_er_lot int,\n",
      "2_ieme_lot int,\n",
      "3_ieme_lot int,\n",
      "Numero_volume_1_er_lot int,\n",
      "Numero_volume_2_ieme_lot int,\n",
      "Numero_volume_3_ieme lot int)\n",
      "\n",
      "\n",
      "Second step: Insertion \n",
      "Insert into Characteristique_of_local\n",
      "Select Id_local,\n",
      "Type_local ,\n",
      "Surface reelle batis ,\n",
      "Nombre pieces principales,\n",
      "Nature culture special,\n",
      "Surface terrain int,\n",
      "1 er lot ,\n",
      "2 ieme lot,\n",
      "3 ieme lot,\n",
      "Numero volume 1 er lot,\n",
      "Numero volume 2 ieme lot,\n",
      "Numero volume 3 ieme lot\n",
      "from Base \n",
      "Group by Id local\n",
      "\n",
      "********** Table Administration**********\n",
      "1st step: Creation \n",
      "Use projet\n",
      "Create table Administration (Code_service int PRIMARY KEY,\n",
      "id_local int,\n",
      "Reference_document int,\n",
      "Section int ,\n",
      "Prefixe_de_section int,\n",
      "1_Article_CGI int ,\n",
      "2_Article_CGI int,\n",
      "3_Article_CGI int ,\n",
      "4_Article_CGI int,\n",
      "5_Article_CGI int,\n",
      "Numero_plan int)\n",
      "\n",
      "2nd step : Insertion \n",
      "Insert into Administration\n",
      "Select Code service,\n",
      "id local ,\n",
      "Reference document,\n",
      "Section,\n",
      "Prefixe de section ,\n",
      "1_Article_CGI,\n",
      "2_Article_CGI,\n",
      "3_Article_CGI,\n",
      "4_Article_CGI,\n",
      "5_Article_CGI,\n",
      "Numero plan\n",
      "from Base \n",
      "Group by Id local as Administration;\n",
      "\n",
      "**********Mutation********\n",
      "1rst step: Creation \n",
      "Create Mutation(  \n",
      "Id_mutation INT PRIMARY KEY NOT NULL AUTO_INCREMENT,\n",
      "Nature_mutation Varchar(50),\n",
      "Id_local int ,\n",
      "Numero_disposition int,\n",
      "Date_muatation date,\n",
      "Valeur_fonciere float)\n",
      "\n",
      "2nd step : Insertion \n",
      "Insert into Mutation\n",
      "Select Id mutation, \n",
      "Nature mutation ,\n",
      "Id local ,\n",
      "Numero disposition,\n",
      "Date muatation,\n",
      "Valeur fonciere\n",
      "from Base \n",
      "Group by Id local as Mutation;\n",
      "\n"
     ]
    }
   ],
   "source": [
    "file=open(r\"C:\\Users\\33758\\Desktop\\Cours APE\\Premier semestre\\S1A\\Programmation for big data\\Exam\\Code_SQL.txt\",\"r\")\n",
    "print(\"read function: \")\n",
    "print(file.read())\n",
    "print()"
   ]
  },
  {
   "cell_type": "markdown",
   "id": "spectacular-aside",
   "metadata": {},
   "source": [
    "### 2-2) Data analysis and modeling "
   ]
  },
  {
   "cell_type": "markdown",
   "id": "alternative-candidate",
   "metadata": {},
   "source": [
    "### Selection of the area of study "
   ]
  },
  {
   "cell_type": "markdown",
   "id": "informal-cedar",
   "metadata": {},
   "source": [
    "We will filtering of the bases by the variable Commune and choice of the most representative municipality"
   ]
  },
  {
   "cell_type": "code",
   "execution_count": 14,
   "id": "working-candidate",
   "metadata": {},
   "outputs": [],
   "source": [
    "#Lets see the most representative Commune "
   ]
  },
  {
   "cell_type": "code",
   "execution_count": 15,
   "id": "several-motivation",
   "metadata": {},
   "outputs": [
    {
     "data": {
      "text/plain": [
       "TOULOUSE                  13247\n",
       "NANTES                     9294\n",
       "BORDEAUX                   8285\n",
       "MONTPELLIER                7931\n",
       "NICE                       7612\n",
       "                          ...  \n",
       "SAINT PIERRE-DES-LOGES        1\n",
       "ISLE-SUR-MARNE                1\n",
       "ERLOY                         1\n",
       "FRANCILLON-SUR-ROUBION        1\n",
       "AUDRIX                        1\n",
       "Name: Commune, Length: 29967, dtype: int64"
      ]
     },
     "execution_count": 15,
     "metadata": {},
     "output_type": "execute_result"
    }
   ],
   "source": [
    "valeurfoncière_2016[\"Commune\"].value_counts()"
   ]
  },
  {
   "cell_type": "code",
   "execution_count": 16,
   "id": "coordinate-netherlands",
   "metadata": {},
   "outputs": [
    {
     "data": {
      "text/plain": [
       "TOULOUSE        31003\n",
       "NANTES          19016\n",
       "BORDEAUX        17624\n",
       "NICE            17192\n",
       "MONTPELLIER     16912\n",
       "                ...  \n",
       "ISLE ADAM           1\n",
       "MONTJUSTIN          1\n",
       "HIIS                1\n",
       "CONTALMAISON        1\n",
       "DOURNON             1\n",
       "Name: Commune, Length: 31207, dtype: int64"
      ]
     },
     "execution_count": 16,
     "metadata": {},
     "output_type": "execute_result"
    }
   ],
   "source": [
    "valeurfoncière_2017[\"Commune\"].value_counts()"
   ]
  },
  {
   "cell_type": "code",
   "execution_count": 17,
   "id": "earned-annual",
   "metadata": {},
   "outputs": [
    {
     "data": {
      "text/plain": [
       "TOULOUSE           27048\n",
       "NICE               16672\n",
       "NANTES             16149\n",
       "MONTPELLIER        15365\n",
       "BORDEAUX           14567\n",
       "                   ...  \n",
       "MERCEY LE GRAND        1\n",
       "BAGIRY                 1\n",
       "ERBAJOLO               1\n",
       "PALOGNEUX              1\n",
       "LAVAL MORENCY          1\n",
       "Name: Commune, Length: 31177, dtype: int64"
      ]
     },
     "execution_count": 17,
     "metadata": {},
     "output_type": "execute_result"
    }
   ],
   "source": [
    "valeurfoncière_2018[\"Commune\"].value_counts()"
   ]
  },
  {
   "cell_type": "code",
   "execution_count": 18,
   "id": "federal-borough",
   "metadata": {},
   "outputs": [
    {
     "data": {
      "text/plain": [
       "TOULOUSE       29329\n",
       "NICE           18548\n",
       "NANTES         16671\n",
       "MONTPELLIER    15913\n",
       "BORDEAUX       13574\n",
       "               ...  \n",
       "ORBAGNA            1\n",
       "BARLEUX            1\n",
       "NANTOIN            1\n",
       "NESSA              1\n",
       "MONTIGNE           1\n",
       "Name: Commune, Length: 31124, dtype: int64"
      ]
     },
     "execution_count": 18,
     "metadata": {},
     "output_type": "execute_result"
    }
   ],
   "source": [
    "valeurfoncière_2019[\"Commune\"].value_counts()"
   ]
  },
  {
   "cell_type": "code",
   "execution_count": 19,
   "id": "pretty-reminder",
   "metadata": {},
   "outputs": [
    {
     "data": {
      "text/plain": [
       "NICE                      17803\n",
       "TOULOUSE                  16678\n",
       "NANTES                    14733\n",
       "BORDEAUX                  12917\n",
       "MONTPELLIER               12055\n",
       "                          ...  \n",
       "LABASTIDE-DU-HAUT-MONT        1\n",
       "ARGUEL                        1\n",
       "ESCLAGNE                      1\n",
       "VAUDRECOURT                   1\n",
       "LENHARREE                     1\n",
       "Name: Commune, Length: 30644, dtype: int64"
      ]
     },
     "execution_count": 19,
     "metadata": {},
     "output_type": "execute_result"
    }
   ],
   "source": [
    "valeurfoncière_2020[\"Commune\"].value_counts()"
   ]
  },
  {
   "cell_type": "code",
   "execution_count": 20,
   "id": "floral-attachment",
   "metadata": {},
   "outputs": [
    {
     "data": {
      "text/plain": [
       "NICE           9958\n",
       "NANTES         7795\n",
       "BORDEAUX       6649\n",
       "TOULOUSE       6029\n",
       "RENNES         5237\n",
       "               ... \n",
       "FOUGARON          1\n",
       "LEMPS             1\n",
       "MARAC             1\n",
       "MEOBECQ           1\n",
       "LIEUVILLERS       1\n",
       "Name: Commune, Length: 25210, dtype: int64"
      ]
     },
     "execution_count": 20,
     "metadata": {},
     "output_type": "execute_result"
    }
   ],
   "source": [
    "valeurfoncière_2021[\"Commune\"].value_counts()"
   ]
  },
  {
   "cell_type": "markdown",
   "id": "efficient-liberty",
   "metadata": {},
   "source": [
    "We noticed that over the 5 years, Toulouse is the most represented from 2016 to 2019 and is in the top 3 in 2020. On this basis, we decided to filter according to the city of Toulouse"
   ]
  },
  {
   "cell_type": "code",
   "execution_count": 21,
   "id": "indie-transcript",
   "metadata": {},
   "outputs": [],
   "source": [
    "city=[\"TOULOUSE\"]\n",
    "vf_2016=valeurfoncière_2016.loc[valeurfoncière_2016[\"Commune\"].isin(city)]\n",
    "vf_2017=valeurfoncière_2017.loc[valeurfoncière_2017[\"Commune\"].isin(city)]\n",
    "vf_2018=valeurfoncière_2018.loc[valeurfoncière_2018[\"Commune\"].isin(city)]\n",
    "vf_2019=valeurfoncière_2019.loc[valeurfoncière_2019[\"Commune\"].isin(city)]\n",
    "vf_2020=valeurfoncière_2020[valeurfoncière_2020[\"Commune\"].isin(city)]\n",
    "vf_2021=valeurfoncière_2021.loc[valeurfoncière_2021[\"Commune\"].isin(city)]"
   ]
  },
  {
   "cell_type": "code",
   "execution_count": 22,
   "id": "passing-northeast",
   "metadata": {},
   "outputs": [
    {
     "data": {
      "text/plain": [
       "TOULOUSE    13247\n",
       "Name: Commune, dtype: int64"
      ]
     },
     "execution_count": 22,
     "metadata": {},
     "output_type": "execute_result"
    }
   ],
   "source": [
    "vf_2016[\"Commune\"].value_counts()"
   ]
  },
  {
   "cell_type": "code",
   "execution_count": 23,
   "id": "departmental-future",
   "metadata": {},
   "outputs": [],
   "source": [
    "#Concontenate all the data base\n",
    "Base=pd.concat([vf_2019,vf_2020])"
   ]
  },
  {
   "cell_type": "code",
   "execution_count": 76,
   "id": "comic-thunder",
   "metadata": {},
   "outputs": [],
   "source": [
    "#Save as en csv file in our desktop\n",
    "Base_csv=Base.to_csv(\"Base.csv\")"
   ]
  },
  {
   "cell_type": "markdown",
   "id": "verbal-usage",
   "metadata": {},
   "source": [
    "### Database processing"
   ]
  },
  {
   "cell_type": "code",
   "execution_count": 25,
   "id": "progressive-buffalo",
   "metadata": {},
   "outputs": [],
   "source": [
    "## In this section we have focused on two years (2019, 2020). The reason for this is that we wanted to work on the most recent years mainly on Toulouse and as for the year 2021 we only have the values of the first half of the year, and because Toulouse was fourth, we have chosen (2019, 2020)"
   ]
  },
  {
   "cell_type": "code",
   "execution_count": 26,
   "id": "effective-profile",
   "metadata": {},
   "outputs": [
    {
     "name": "stdout",
     "output_type": "stream",
     "text": [
      "<class 'pandas.core.frame.DataFrame'>\n",
      "Int64Index: 46007 entries, 993909 to 878070\n",
      "Data columns (total 43 columns):\n",
      " #   Column                      Non-Null Count  Dtype  \n",
      "---  ------                      --------------  -----  \n",
      " 0   Code service CH             0 non-null      float64\n",
      " 1   Reference document          0 non-null      float64\n",
      " 2   1 Articles CGI              0 non-null      float64\n",
      " 3   2 Articles CGI              0 non-null      float64\n",
      " 4   3 Articles CGI              0 non-null      float64\n",
      " 5   4 Articles CGI              0 non-null      float64\n",
      " 6   5 Articles CGI              0 non-null      float64\n",
      " 7   No disposition              46007 non-null  int64  \n",
      " 8   Date mutation               46007 non-null  object \n",
      " 9   Nature mutation             46007 non-null  object \n",
      " 10  Valeur fonciere             45972 non-null  object \n",
      " 11  No voie                     41074 non-null  float64\n",
      " 12  B/T/Q                       2478 non-null   object \n",
      " 13  Type de voie                42911 non-null  object \n",
      " 14  Code voie                   44569 non-null  object \n",
      " 15  Voie                        44567 non-null  object \n",
      " 16  Code postal                 44566 non-null  float64\n",
      " 17  Commune                     46007 non-null  object \n",
      " 18  Code departement            46007 non-null  object \n",
      " 19  Code commune                46007 non-null  int64  \n",
      " 20  Prefixe de section          46007 non-null  float64\n",
      " 21  Section                     46007 non-null  object \n",
      " 22  No plan                     46007 non-null  int64  \n",
      " 23  No Volume                   126 non-null    object \n",
      " 24  1er lot                     38838 non-null  object \n",
      " 25  Surface Carrez du 1er lot   7841 non-null   object \n",
      " 26  2eme lot                    6184 non-null   object \n",
      " 27  Surface Carrez du 2eme lot  1726 non-null   object \n",
      " 28  3eme lot                    515 non-null    object \n",
      " 29  Surface Carrez du 3eme lot  71 non-null     object \n",
      " 30  4eme lot                    192 non-null    float64\n",
      " 31  Surface Carrez du 4eme lot  24 non-null     object \n",
      " 32  5eme lot                    92 non-null     float64\n",
      " 33  Surface Carrez du 5eme lot  3 non-null      object \n",
      " 34  Nombre de lots              46007 non-null  int64  \n",
      " 35  Code type local             34219 non-null  float64\n",
      " 36  Type local                  34219 non-null  object \n",
      " 37  Identifiant local           0 non-null      float64\n",
      " 38  Surface reelle bati         34205 non-null  float64\n",
      " 39  Nombre pieces principales   34205 non-null  float64\n",
      " 40  Nature culture              7059 non-null   object \n",
      " 41  Nature culture speciale     234 non-null    object \n",
      " 42  Surface terrain             7059 non-null   float64\n",
      "dtypes: float64(17), int64(4), object(22)\n",
      "memory usage: 15.4+ MB\n"
     ]
    },
    {
     "data": {
      "text/plain": [
       "(None, (46007, 43))"
      ]
     },
     "execution_count": 26,
     "metadata": {},
     "output_type": "execute_result"
    }
   ],
   "source": [
    "Base.info(),Base.shape"
   ]
  },
  {
   "cell_type": "code",
   "execution_count": 27,
   "id": "correct-intranet",
   "metadata": {},
   "outputs": [
    {
     "data": {
      "text/html": [
       "<div>\n",
       "<style scoped>\n",
       "    .dataframe tbody tr th:only-of-type {\n",
       "        vertical-align: middle;\n",
       "    }\n",
       "\n",
       "    .dataframe tbody tr th {\n",
       "        vertical-align: top;\n",
       "    }\n",
       "\n",
       "    .dataframe thead th {\n",
       "        text-align: right;\n",
       "    }\n",
       "</style>\n",
       "<table border=\"1\" class=\"dataframe\">\n",
       "  <thead>\n",
       "    <tr style=\"text-align: right;\">\n",
       "      <th></th>\n",
       "      <th>No disposition</th>\n",
       "      <th>Date mutation</th>\n",
       "      <th>Nature mutation</th>\n",
       "      <th>Valeur fonciere</th>\n",
       "      <th>No voie</th>\n",
       "      <th>Type de voie</th>\n",
       "      <th>Code voie</th>\n",
       "      <th>Voie</th>\n",
       "      <th>Code postal</th>\n",
       "      <th>Section</th>\n",
       "      <th>No plan</th>\n",
       "      <th>Nombre de lots</th>\n",
       "      <th>Code type local</th>\n",
       "      <th>Type local</th>\n",
       "      <th>Surface reelle bati</th>\n",
       "      <th>Nombre pieces principales</th>\n",
       "      <th>Surface terrain</th>\n",
       "    </tr>\n",
       "  </thead>\n",
       "  <tbody>\n",
       "    <tr>\n",
       "      <th>993909</th>\n",
       "      <td>1</td>\n",
       "      <td>05/01/2019</td>\n",
       "      <td>Vente</td>\n",
       "      <td>255300,00</td>\n",
       "      <td>15.0</td>\n",
       "      <td>RUE</td>\n",
       "      <td>0608</td>\n",
       "      <td>D'AUBUISSON</td>\n",
       "      <td>31000.0</td>\n",
       "      <td>AC</td>\n",
       "      <td>319</td>\n",
       "      <td>2</td>\n",
       "      <td>2.0</td>\n",
       "      <td>Appartement</td>\n",
       "      <td>49.0</td>\n",
       "      <td>1.0</td>\n",
       "      <td>NaN</td>\n",
       "    </tr>\n",
       "    <tr>\n",
       "      <th>993910</th>\n",
       "      <td>1</td>\n",
       "      <td>03/01/2019</td>\n",
       "      <td>Vente</td>\n",
       "      <td>380000,00</td>\n",
       "      <td>12.0</td>\n",
       "      <td>RUE</td>\n",
       "      <td>7888</td>\n",
       "      <td>SAINT LIGORY</td>\n",
       "      <td>31500.0</td>\n",
       "      <td>AB</td>\n",
       "      <td>581</td>\n",
       "      <td>0</td>\n",
       "      <td>1.0</td>\n",
       "      <td>Maison</td>\n",
       "      <td>52.0</td>\n",
       "      <td>2.0</td>\n",
       "      <td>160.0</td>\n",
       "    </tr>\n",
       "    <tr>\n",
       "      <th>993911</th>\n",
       "      <td>1</td>\n",
       "      <td>07/01/2019</td>\n",
       "      <td>Vente</td>\n",
       "      <td>128000,00</td>\n",
       "      <td>13.0</td>\n",
       "      <td>RUE</td>\n",
       "      <td>6516</td>\n",
       "      <td>DES PAQUERETTES</td>\n",
       "      <td>31500.0</td>\n",
       "      <td>AD</td>\n",
       "      <td>42</td>\n",
       "      <td>2</td>\n",
       "      <td>2.0</td>\n",
       "      <td>Appartement</td>\n",
       "      <td>78.0</td>\n",
       "      <td>5.0</td>\n",
       "      <td>NaN</td>\n",
       "    </tr>\n",
       "    <tr>\n",
       "      <th>993915</th>\n",
       "      <td>1</td>\n",
       "      <td>09/01/2019</td>\n",
       "      <td>Vente</td>\n",
       "      <td>155447,00</td>\n",
       "      <td>22.0</td>\n",
       "      <td>RUE</td>\n",
       "      <td>3824</td>\n",
       "      <td>DES GENETS</td>\n",
       "      <td>31500.0</td>\n",
       "      <td>AT</td>\n",
       "      <td>177</td>\n",
       "      <td>1</td>\n",
       "      <td>3.0</td>\n",
       "      <td>Dépendance</td>\n",
       "      <td>0.0</td>\n",
       "      <td>0.0</td>\n",
       "      <td>NaN</td>\n",
       "    </tr>\n",
       "    <tr>\n",
       "      <th>993916</th>\n",
       "      <td>1</td>\n",
       "      <td>09/01/2019</td>\n",
       "      <td>Vente</td>\n",
       "      <td>155447,00</td>\n",
       "      <td>22.0</td>\n",
       "      <td>RUE</td>\n",
       "      <td>3824</td>\n",
       "      <td>DES GENETS</td>\n",
       "      <td>31500.0</td>\n",
       "      <td>AT</td>\n",
       "      <td>177</td>\n",
       "      <td>1</td>\n",
       "      <td>2.0</td>\n",
       "      <td>Appartement</td>\n",
       "      <td>78.0</td>\n",
       "      <td>4.0</td>\n",
       "      <td>NaN</td>\n",
       "    </tr>\n",
       "    <tr>\n",
       "      <th>...</th>\n",
       "      <td>...</td>\n",
       "      <td>...</td>\n",
       "      <td>...</td>\n",
       "      <td>...</td>\n",
       "      <td>...</td>\n",
       "      <td>...</td>\n",
       "      <td>...</td>\n",
       "      <td>...</td>\n",
       "      <td>...</td>\n",
       "      <td>...</td>\n",
       "      <td>...</td>\n",
       "      <td>...</td>\n",
       "      <td>...</td>\n",
       "      <td>...</td>\n",
       "      <td>...</td>\n",
       "      <td>...</td>\n",
       "      <td>...</td>\n",
       "    </tr>\n",
       "    <tr>\n",
       "      <th>878065</th>\n",
       "      <td>1</td>\n",
       "      <td>23/10/2020</td>\n",
       "      <td>Vente</td>\n",
       "      <td>165000,00</td>\n",
       "      <td>10.0</td>\n",
       "      <td>CHE</td>\n",
       "      <td>6264</td>\n",
       "      <td>NEGO SAOUMOS</td>\n",
       "      <td>31300.0</td>\n",
       "      <td>AV</td>\n",
       "      <td>114</td>\n",
       "      <td>1</td>\n",
       "      <td>3.0</td>\n",
       "      <td>Dépendance</td>\n",
       "      <td>0.0</td>\n",
       "      <td>0.0</td>\n",
       "      <td>NaN</td>\n",
       "    </tr>\n",
       "    <tr>\n",
       "      <th>878066</th>\n",
       "      <td>1</td>\n",
       "      <td>23/10/2020</td>\n",
       "      <td>Vente</td>\n",
       "      <td>165000,00</td>\n",
       "      <td>10.0</td>\n",
       "      <td>CHE</td>\n",
       "      <td>6264</td>\n",
       "      <td>NEGO SAOUMOS</td>\n",
       "      <td>31300.0</td>\n",
       "      <td>AV</td>\n",
       "      <td>114</td>\n",
       "      <td>1</td>\n",
       "      <td>3.0</td>\n",
       "      <td>Dépendance</td>\n",
       "      <td>0.0</td>\n",
       "      <td>0.0</td>\n",
       "      <td>NaN</td>\n",
       "    </tr>\n",
       "    <tr>\n",
       "      <th>878067</th>\n",
       "      <td>1</td>\n",
       "      <td>23/10/2020</td>\n",
       "      <td>Vente</td>\n",
       "      <td>165000,00</td>\n",
       "      <td>10.0</td>\n",
       "      <td>CHE</td>\n",
       "      <td>6264</td>\n",
       "      <td>NEGO SAOUMOS</td>\n",
       "      <td>31300.0</td>\n",
       "      <td>AV</td>\n",
       "      <td>114</td>\n",
       "      <td>1</td>\n",
       "      <td>2.0</td>\n",
       "      <td>Appartement</td>\n",
       "      <td>65.0</td>\n",
       "      <td>3.0</td>\n",
       "      <td>NaN</td>\n",
       "    </tr>\n",
       "    <tr>\n",
       "      <th>878069</th>\n",
       "      <td>1</td>\n",
       "      <td>20/08/2020</td>\n",
       "      <td>Vente</td>\n",
       "      <td>645000,00</td>\n",
       "      <td>110.0</td>\n",
       "      <td>RUE</td>\n",
       "      <td>6236</td>\n",
       "      <td>DE NEGRENEYS</td>\n",
       "      <td>31200.0</td>\n",
       "      <td>AC</td>\n",
       "      <td>226</td>\n",
       "      <td>0</td>\n",
       "      <td>3.0</td>\n",
       "      <td>Dépendance</td>\n",
       "      <td>0.0</td>\n",
       "      <td>0.0</td>\n",
       "      <td>466.0</td>\n",
       "    </tr>\n",
       "    <tr>\n",
       "      <th>878070</th>\n",
       "      <td>1</td>\n",
       "      <td>20/08/2020</td>\n",
       "      <td>Vente</td>\n",
       "      <td>645000,00</td>\n",
       "      <td>110.0</td>\n",
       "      <td>RUE</td>\n",
       "      <td>6236</td>\n",
       "      <td>DE NEGRENEYS</td>\n",
       "      <td>31200.0</td>\n",
       "      <td>AC</td>\n",
       "      <td>226</td>\n",
       "      <td>0</td>\n",
       "      <td>1.0</td>\n",
       "      <td>Maison</td>\n",
       "      <td>200.0</td>\n",
       "      <td>7.0</td>\n",
       "      <td>466.0</td>\n",
       "    </tr>\n",
       "  </tbody>\n",
       "</table>\n",
       "<p>46007 rows × 17 columns</p>\n",
       "</div>"
      ],
      "text/plain": [
       "        No disposition Date mutation Nature mutation Valeur fonciere  No voie  \\\n",
       "993909               1    05/01/2019           Vente       255300,00     15.0   \n",
       "993910               1    03/01/2019           Vente       380000,00     12.0   \n",
       "993911               1    07/01/2019           Vente       128000,00     13.0   \n",
       "993915               1    09/01/2019           Vente       155447,00     22.0   \n",
       "993916               1    09/01/2019           Vente       155447,00     22.0   \n",
       "...                ...           ...             ...             ...      ...   \n",
       "878065               1    23/10/2020           Vente       165000,00     10.0   \n",
       "878066               1    23/10/2020           Vente       165000,00     10.0   \n",
       "878067               1    23/10/2020           Vente       165000,00     10.0   \n",
       "878069               1    20/08/2020           Vente       645000,00    110.0   \n",
       "878070               1    20/08/2020           Vente       645000,00    110.0   \n",
       "\n",
       "       Type de voie Code voie             Voie  Code postal Section  No plan  \\\n",
       "993909          RUE      0608      D'AUBUISSON      31000.0      AC      319   \n",
       "993910          RUE      7888     SAINT LIGORY      31500.0      AB      581   \n",
       "993911          RUE      6516  DES PAQUERETTES      31500.0      AD       42   \n",
       "993915          RUE      3824       DES GENETS      31500.0      AT      177   \n",
       "993916          RUE      3824       DES GENETS      31500.0      AT      177   \n",
       "...             ...       ...              ...          ...     ...      ...   \n",
       "878065          CHE      6264     NEGO SAOUMOS      31300.0      AV      114   \n",
       "878066          CHE      6264     NEGO SAOUMOS      31300.0      AV      114   \n",
       "878067          CHE      6264     NEGO SAOUMOS      31300.0      AV      114   \n",
       "878069          RUE      6236     DE NEGRENEYS      31200.0      AC      226   \n",
       "878070          RUE      6236     DE NEGRENEYS      31200.0      AC      226   \n",
       "\n",
       "        Nombre de lots  Code type local   Type local  Surface reelle bati  \\\n",
       "993909               2              2.0  Appartement                 49.0   \n",
       "993910               0              1.0       Maison                 52.0   \n",
       "993911               2              2.0  Appartement                 78.0   \n",
       "993915               1              3.0   Dépendance                  0.0   \n",
       "993916               1              2.0  Appartement                 78.0   \n",
       "...                ...              ...          ...                  ...   \n",
       "878065               1              3.0   Dépendance                  0.0   \n",
       "878066               1              3.0   Dépendance                  0.0   \n",
       "878067               1              2.0  Appartement                 65.0   \n",
       "878069               0              3.0   Dépendance                  0.0   \n",
       "878070               0              1.0       Maison                200.0   \n",
       "\n",
       "        Nombre pieces principales  Surface terrain  \n",
       "993909                        1.0              NaN  \n",
       "993910                        2.0            160.0  \n",
       "993911                        5.0              NaN  \n",
       "993915                        0.0              NaN  \n",
       "993916                        4.0              NaN  \n",
       "...                           ...              ...  \n",
       "878065                        0.0              NaN  \n",
       "878066                        0.0              NaN  \n",
       "878067                        3.0              NaN  \n",
       "878069                        0.0            466.0  \n",
       "878070                        7.0            466.0  \n",
       "\n",
       "[46007 rows x 17 columns]"
      ]
     },
     "execution_count": 27,
     "metadata": {},
     "output_type": "execute_result"
    }
   ],
   "source": [
    "null = ['Nature culture','Prefixe de section','B/T/Q','No Volume','Nature culture speciale','Surface Carrez du 5eme lot','Surface Carrez du 4eme lot','Surface Carrez du 3eme lot','Surface Carrez du 2eme lot','Surface Carrez du 1er lot','1er lot','2eme lot','3eme lot','4eme lot','5eme lot','Code service CH','Reference document','1 Articles CGI','2 Articles CGI','3 Articles CGI','4 Articles CGI','5 Articles CGI','Identifiant local','Commune','Code commune','Code departement']\n",
    "Base=Base.drop(null,axis=1)\n",
    "Base"
   ]
  },
  {
   "cell_type": "code",
   "execution_count": 28,
   "id": "asian-killing",
   "metadata": {},
   "outputs": [
    {
     "data": {
      "text/plain": [
       "(No disposition                   0\n",
       " Date mutation                    0\n",
       " Nature mutation                  0\n",
       " Valeur fonciere                 35\n",
       " No voie                       4933\n",
       " Type de voie                  3096\n",
       " Code voie                     1438\n",
       " Voie                          1440\n",
       " Code postal                   1441\n",
       " Section                          0\n",
       " No plan                          0\n",
       " Nombre de lots                   0\n",
       " Code type local              11788\n",
       " Type local                   11788\n",
       " Surface reelle bati          11802\n",
       " Nombre pieces principales    11802\n",
       " Surface terrain              38948\n",
       " dtype: int64,\n",
       " No disposition                   0\n",
       " Date mutation                    0\n",
       " Nature mutation                  0\n",
       " Valeur fonciere                 35\n",
       " No voie                       4933\n",
       " Type de voie                  3096\n",
       " Code voie                     1438\n",
       " Voie                          1440\n",
       " Code postal                   1441\n",
       " Section                          0\n",
       " No plan                          0\n",
       " Nombre de lots                   0\n",
       " Code type local              11788\n",
       " Type local                   11788\n",
       " Surface reelle bati          11802\n",
       " Nombre pieces principales    11802\n",
       " Surface terrain              38948\n",
       " dtype: int64)"
      ]
     },
     "execution_count": 28,
     "metadata": {},
     "output_type": "execute_result"
    }
   ],
   "source": [
    "#Missing values checking\n",
    "Base.isna().sum(), Base.isnull().sum()"
   ]
  },
  {
   "cell_type": "code",
   "execution_count": 29,
   "id": "superb-danish",
   "metadata": {},
   "outputs": [
    {
     "data": {
      "text/html": [
       "<div>\n",
       "<style scoped>\n",
       "    .dataframe tbody tr th:only-of-type {\n",
       "        vertical-align: middle;\n",
       "    }\n",
       "\n",
       "    .dataframe tbody tr th {\n",
       "        vertical-align: top;\n",
       "    }\n",
       "\n",
       "    .dataframe thead th {\n",
       "        text-align: right;\n",
       "    }\n",
       "</style>\n",
       "<table border=\"1\" class=\"dataframe\">\n",
       "  <thead>\n",
       "    <tr style=\"text-align: right;\">\n",
       "      <th></th>\n",
       "      <th>No disposition</th>\n",
       "      <th>Date mutation</th>\n",
       "      <th>Nature mutation</th>\n",
       "      <th>Valeur fonciere</th>\n",
       "      <th>No voie</th>\n",
       "      <th>Type de voie</th>\n",
       "      <th>Code voie</th>\n",
       "      <th>Voie</th>\n",
       "      <th>Code postal</th>\n",
       "      <th>Section</th>\n",
       "      <th>No plan</th>\n",
       "      <th>Nombre de lots</th>\n",
       "      <th>Code type local</th>\n",
       "      <th>Type local</th>\n",
       "      <th>Surface reelle bati</th>\n",
       "      <th>Nombre pieces principales</th>\n",
       "      <th>Surface terrain</th>\n",
       "    </tr>\n",
       "  </thead>\n",
       "  <tbody>\n",
       "    <tr>\n",
       "      <th>993910</th>\n",
       "      <td>1</td>\n",
       "      <td>03/01/2019</td>\n",
       "      <td>Vente</td>\n",
       "      <td>380000,00</td>\n",
       "      <td>12.0</td>\n",
       "      <td>RUE</td>\n",
       "      <td>7888</td>\n",
       "      <td>SAINT LIGORY</td>\n",
       "      <td>31500.0</td>\n",
       "      <td>AB</td>\n",
       "      <td>581</td>\n",
       "      <td>0</td>\n",
       "      <td>1.0</td>\n",
       "      <td>Maison</td>\n",
       "      <td>52.0</td>\n",
       "      <td>2.0</td>\n",
       "      <td>160.0</td>\n",
       "    </tr>\n",
       "    <tr>\n",
       "      <th>993938</th>\n",
       "      <td>1</td>\n",
       "      <td>09/01/2019</td>\n",
       "      <td>Vente</td>\n",
       "      <td>800000,00</td>\n",
       "      <td>2.0</td>\n",
       "      <td>AV</td>\n",
       "      <td>2651</td>\n",
       "      <td>DIDIER DAURAT</td>\n",
       "      <td>31400.0</td>\n",
       "      <td>BC</td>\n",
       "      <td>129</td>\n",
       "      <td>0</td>\n",
       "      <td>4.0</td>\n",
       "      <td>Local industriel. commercial ou assimilé</td>\n",
       "      <td>1800.0</td>\n",
       "      <td>0.0</td>\n",
       "      <td>6281.0</td>\n",
       "    </tr>\n",
       "    <tr>\n",
       "      <th>993941</th>\n",
       "      <td>1</td>\n",
       "      <td>03/01/2019</td>\n",
       "      <td>Vente</td>\n",
       "      <td>181200,00</td>\n",
       "      <td>12.0</td>\n",
       "      <td>RUE</td>\n",
       "      <td>4836</td>\n",
       "      <td>JULIA</td>\n",
       "      <td>31500.0</td>\n",
       "      <td>AC</td>\n",
       "      <td>119</td>\n",
       "      <td>1</td>\n",
       "      <td>3.0</td>\n",
       "      <td>Dépendance</td>\n",
       "      <td>0.0</td>\n",
       "      <td>0.0</td>\n",
       "      <td>10.0</td>\n",
       "    </tr>\n",
       "    <tr>\n",
       "      <th>993985</th>\n",
       "      <td>1</td>\n",
       "      <td>08/01/2019</td>\n",
       "      <td>Vente</td>\n",
       "      <td>215000,00</td>\n",
       "      <td>28.0</td>\n",
       "      <td>RUE</td>\n",
       "      <td>1955</td>\n",
       "      <td>CHARLES TRENET</td>\n",
       "      <td>31200.0</td>\n",
       "      <td>AC</td>\n",
       "      <td>489</td>\n",
       "      <td>0</td>\n",
       "      <td>1.0</td>\n",
       "      <td>Maison</td>\n",
       "      <td>89.0</td>\n",
       "      <td>4.0</td>\n",
       "      <td>274.0</td>\n",
       "    </tr>\n",
       "    <tr>\n",
       "      <th>994125</th>\n",
       "      <td>1</td>\n",
       "      <td>02/01/2019</td>\n",
       "      <td>Vente</td>\n",
       "      <td>337700,00</td>\n",
       "      <td>18.0</td>\n",
       "      <td>RUE</td>\n",
       "      <td>0160</td>\n",
       "      <td>ALEXANDRE SOUMET</td>\n",
       "      <td>31500.0</td>\n",
       "      <td>AO</td>\n",
       "      <td>123</td>\n",
       "      <td>0</td>\n",
       "      <td>1.0</td>\n",
       "      <td>Maison</td>\n",
       "      <td>70.0</td>\n",
       "      <td>4.0</td>\n",
       "      <td>383.0</td>\n",
       "    </tr>\n",
       "    <tr>\n",
       "      <th>...</th>\n",
       "      <td>...</td>\n",
       "      <td>...</td>\n",
       "      <td>...</td>\n",
       "      <td>...</td>\n",
       "      <td>...</td>\n",
       "      <td>...</td>\n",
       "      <td>...</td>\n",
       "      <td>...</td>\n",
       "      <td>...</td>\n",
       "      <td>...</td>\n",
       "      <td>...</td>\n",
       "      <td>...</td>\n",
       "      <td>...</td>\n",
       "      <td>...</td>\n",
       "      <td>...</td>\n",
       "      <td>...</td>\n",
       "      <td>...</td>\n",
       "    </tr>\n",
       "    <tr>\n",
       "      <th>871895</th>\n",
       "      <td>1</td>\n",
       "      <td>24/12/2020</td>\n",
       "      <td>Vente</td>\n",
       "      <td>212500,00</td>\n",
       "      <td>17.0</td>\n",
       "      <td>RUE</td>\n",
       "      <td>6753</td>\n",
       "      <td>DU PERE BERGOUNIOUX</td>\n",
       "      <td>31100.0</td>\n",
       "      <td>AX</td>\n",
       "      <td>165</td>\n",
       "      <td>0</td>\n",
       "      <td>1.0</td>\n",
       "      <td>Maison</td>\n",
       "      <td>77.0</td>\n",
       "      <td>4.0</td>\n",
       "      <td>129.0</td>\n",
       "    </tr>\n",
       "    <tr>\n",
       "      <th>871900</th>\n",
       "      <td>1</td>\n",
       "      <td>23/12/2020</td>\n",
       "      <td>Vente</td>\n",
       "      <td>309800,00</td>\n",
       "      <td>2.0</td>\n",
       "      <td>ALL</td>\n",
       "      <td>1968</td>\n",
       "      <td>DU CHAROLAIS</td>\n",
       "      <td>31300.0</td>\n",
       "      <td>AM</td>\n",
       "      <td>131</td>\n",
       "      <td>0</td>\n",
       "      <td>1.0</td>\n",
       "      <td>Maison</td>\n",
       "      <td>93.0</td>\n",
       "      <td>5.0</td>\n",
       "      <td>185.0</td>\n",
       "    </tr>\n",
       "    <tr>\n",
       "      <th>871922</th>\n",
       "      <td>1</td>\n",
       "      <td>23/12/2020</td>\n",
       "      <td>Vente</td>\n",
       "      <td>560000,00</td>\n",
       "      <td>5.0</td>\n",
       "      <td>RUE</td>\n",
       "      <td>2424</td>\n",
       "      <td>DE CUGNAUX</td>\n",
       "      <td>31300.0</td>\n",
       "      <td>AM</td>\n",
       "      <td>74</td>\n",
       "      <td>0</td>\n",
       "      <td>1.0</td>\n",
       "      <td>Maison</td>\n",
       "      <td>96.0</td>\n",
       "      <td>3.0</td>\n",
       "      <td>281.0</td>\n",
       "    </tr>\n",
       "    <tr>\n",
       "      <th>878069</th>\n",
       "      <td>1</td>\n",
       "      <td>20/08/2020</td>\n",
       "      <td>Vente</td>\n",
       "      <td>645000,00</td>\n",
       "      <td>110.0</td>\n",
       "      <td>RUE</td>\n",
       "      <td>6236</td>\n",
       "      <td>DE NEGRENEYS</td>\n",
       "      <td>31200.0</td>\n",
       "      <td>AC</td>\n",
       "      <td>226</td>\n",
       "      <td>0</td>\n",
       "      <td>3.0</td>\n",
       "      <td>Dépendance</td>\n",
       "      <td>0.0</td>\n",
       "      <td>0.0</td>\n",
       "      <td>466.0</td>\n",
       "    </tr>\n",
       "    <tr>\n",
       "      <th>878070</th>\n",
       "      <td>1</td>\n",
       "      <td>20/08/2020</td>\n",
       "      <td>Vente</td>\n",
       "      <td>645000,00</td>\n",
       "      <td>110.0</td>\n",
       "      <td>RUE</td>\n",
       "      <td>6236</td>\n",
       "      <td>DE NEGRENEYS</td>\n",
       "      <td>31200.0</td>\n",
       "      <td>AC</td>\n",
       "      <td>226</td>\n",
       "      <td>0</td>\n",
       "      <td>1.0</td>\n",
       "      <td>Maison</td>\n",
       "      <td>200.0</td>\n",
       "      <td>7.0</td>\n",
       "      <td>466.0</td>\n",
       "    </tr>\n",
       "  </tbody>\n",
       "</table>\n",
       "<p>5210 rows × 17 columns</p>\n",
       "</div>"
      ],
      "text/plain": [
       "        No disposition Date mutation Nature mutation Valeur fonciere  No voie  \\\n",
       "993910               1    03/01/2019           Vente       380000,00     12.0   \n",
       "993938               1    09/01/2019           Vente       800000,00      2.0   \n",
       "993941               1    03/01/2019           Vente       181200,00     12.0   \n",
       "993985               1    08/01/2019           Vente       215000,00     28.0   \n",
       "994125               1    02/01/2019           Vente       337700,00     18.0   \n",
       "...                ...           ...             ...             ...      ...   \n",
       "871895               1    24/12/2020           Vente       212500,00     17.0   \n",
       "871900               1    23/12/2020           Vente       309800,00      2.0   \n",
       "871922               1    23/12/2020           Vente       560000,00      5.0   \n",
       "878069               1    20/08/2020           Vente       645000,00    110.0   \n",
       "878070               1    20/08/2020           Vente       645000,00    110.0   \n",
       "\n",
       "       Type de voie Code voie                 Voie  Code postal Section  \\\n",
       "993910          RUE      7888         SAINT LIGORY      31500.0      AB   \n",
       "993938           AV      2651        DIDIER DAURAT      31400.0      BC   \n",
       "993941          RUE      4836                JULIA      31500.0      AC   \n",
       "993985          RUE      1955       CHARLES TRENET      31200.0      AC   \n",
       "994125          RUE      0160     ALEXANDRE SOUMET      31500.0      AO   \n",
       "...             ...       ...                  ...          ...     ...   \n",
       "871895          RUE      6753  DU PERE BERGOUNIOUX      31100.0      AX   \n",
       "871900          ALL      1968         DU CHAROLAIS      31300.0      AM   \n",
       "871922          RUE      2424           DE CUGNAUX      31300.0      AM   \n",
       "878069          RUE      6236         DE NEGRENEYS      31200.0      AC   \n",
       "878070          RUE      6236         DE NEGRENEYS      31200.0      AC   \n",
       "\n",
       "        No plan  Nombre de lots  Code type local  \\\n",
       "993910      581               0              1.0   \n",
       "993938      129               0              4.0   \n",
       "993941      119               1              3.0   \n",
       "993985      489               0              1.0   \n",
       "994125      123               0              1.0   \n",
       "...         ...             ...              ...   \n",
       "871895      165               0              1.0   \n",
       "871900      131               0              1.0   \n",
       "871922       74               0              1.0   \n",
       "878069      226               0              3.0   \n",
       "878070      226               0              1.0   \n",
       "\n",
       "                                      Type local  Surface reelle bati  \\\n",
       "993910                                    Maison                 52.0   \n",
       "993938  Local industriel. commercial ou assimilé               1800.0   \n",
       "993941                                Dépendance                  0.0   \n",
       "993985                                    Maison                 89.0   \n",
       "994125                                    Maison                 70.0   \n",
       "...                                          ...                  ...   \n",
       "871895                                    Maison                 77.0   \n",
       "871900                                    Maison                 93.0   \n",
       "871922                                    Maison                 96.0   \n",
       "878069                                Dépendance                  0.0   \n",
       "878070                                    Maison                200.0   \n",
       "\n",
       "        Nombre pieces principales  Surface terrain  \n",
       "993910                        2.0            160.0  \n",
       "993938                        0.0           6281.0  \n",
       "993941                        0.0             10.0  \n",
       "993985                        4.0            274.0  \n",
       "994125                        4.0            383.0  \n",
       "...                           ...              ...  \n",
       "871895                        4.0            129.0  \n",
       "871900                        5.0            185.0  \n",
       "871922                        3.0            281.0  \n",
       "878069                        0.0            466.0  \n",
       "878070                        7.0            466.0  \n",
       "\n",
       "[5210 rows x 17 columns]"
      ]
     },
     "execution_count": 29,
     "metadata": {},
     "output_type": "execute_result"
    }
   ],
   "source": [
    "#Missing values dropped\n",
    "Base=Base.dropna()\n",
    "Base"
   ]
  },
  {
   "cell_type": "code",
   "execution_count": 30,
   "id": "defensive-playlist",
   "metadata": {},
   "outputs": [
    {
     "data": {
      "text/plain": [
       "No disposition               0\n",
       "Date mutation                0\n",
       "Nature mutation              0\n",
       "Valeur fonciere              0\n",
       "No voie                      0\n",
       "Type de voie                 0\n",
       "Code voie                    0\n",
       "Voie                         0\n",
       "Code postal                  0\n",
       "Section                      0\n",
       "No plan                      0\n",
       "Nombre de lots               0\n",
       "Code type local              0\n",
       "Type local                   0\n",
       "Surface reelle bati          0\n",
       "Nombre pieces principales    0\n",
       "Surface terrain              0\n",
       "dtype: int64"
      ]
     },
     "execution_count": 30,
     "metadata": {},
     "output_type": "execute_result"
    }
   ],
   "source": [
    "Base.isnull().sum()"
   ]
  },
  {
   "cell_type": "code",
   "execution_count": 31,
   "id": "former-modeling",
   "metadata": {},
   "outputs": [],
   "source": [
    "# Converting feature Date mutation to date format\n",
    "Base['Date'] =pd.to_datetime(Base[\"Date mutation\"])\n",
    "Base.sort_values(by=['Date'], inplace=True, ascending=True)"
   ]
  },
  {
   "cell_type": "markdown",
   "id": "surface-exercise",
   "metadata": {},
   "source": [
    "### Some statistique descriptive"
   ]
  },
  {
   "cell_type": "code",
   "execution_count": 32,
   "id": "blessed-spectrum",
   "metadata": {},
   "outputs": [],
   "source": [
    "##Nature of mutation "
   ]
  },
  {
   "cell_type": "code",
   "execution_count": 33,
   "id": "running-destiny",
   "metadata": {},
   "outputs": [
    {
     "data": {
      "text/html": [
       "<div>\n",
       "<style scoped>\n",
       "    .dataframe tbody tr th:only-of-type {\n",
       "        vertical-align: middle;\n",
       "    }\n",
       "\n",
       "    .dataframe tbody tr th {\n",
       "        vertical-align: top;\n",
       "    }\n",
       "\n",
       "    .dataframe thead th {\n",
       "        text-align: right;\n",
       "    }\n",
       "</style>\n",
       "<table border=\"1\" class=\"dataframe\">\n",
       "  <thead>\n",
       "    <tr style=\"text-align: right;\">\n",
       "      <th></th>\n",
       "      <th>Count</th>\n",
       "      <th>percentage</th>\n",
       "    </tr>\n",
       "  </thead>\n",
       "  <tbody>\n",
       "    <tr>\n",
       "      <th>Vente</th>\n",
       "      <td>5110</td>\n",
       "      <td>98.080614</td>\n",
       "    </tr>\n",
       "    <tr>\n",
       "      <th>Echange</th>\n",
       "      <td>77</td>\n",
       "      <td>1.477927</td>\n",
       "    </tr>\n",
       "    <tr>\n",
       "      <th>Adjudication</th>\n",
       "      <td>12</td>\n",
       "      <td>0.230326</td>\n",
       "    </tr>\n",
       "    <tr>\n",
       "      <th>Vente en l'état futur d'achèvement</th>\n",
       "      <td>10</td>\n",
       "      <td>0.191939</td>\n",
       "    </tr>\n",
       "    <tr>\n",
       "      <th>Vente terrain à bâtir</th>\n",
       "      <td>1</td>\n",
       "      <td>0.019194</td>\n",
       "    </tr>\n",
       "  </tbody>\n",
       "</table>\n",
       "</div>"
      ],
      "text/plain": [
       "                                    Count  percentage\n",
       "Vente                                5110   98.080614\n",
       "Echange                                77    1.477927\n",
       "Adjudication                           12    0.230326\n",
       "Vente en l'état futur d'achèvement     10    0.191939\n",
       "Vente terrain à bâtir                   1    0.019194"
      ]
     },
     "execution_count": 33,
     "metadata": {},
     "output_type": "execute_result"
    }
   ],
   "source": [
    "#To see the nature of mutation  which have the most operation\n",
    "percentage=Base['Nature mutation'].value_counts(normalize=True)*100\n",
    "v_real=Base['Nature mutation'].value_counts()\n",
    "df=pd.DataFrame({'Count':v_real, 'percentage':percentage})\n",
    "df"
   ]
  },
  {
   "cell_type": "markdown",
   "id": "literary-continent",
   "metadata": {},
   "source": [
    "As you can see the most common type of transfer in real estate transactions are the sale of land and sale in the future state of completion"
   ]
  },
  {
   "cell_type": "code",
   "execution_count": 34,
   "id": "combined-serial",
   "metadata": {},
   "outputs": [],
   "source": [
    "#Type of local"
   ]
  },
  {
   "cell_type": "code",
   "execution_count": 35,
   "id": "critical-springfield",
   "metadata": {},
   "outputs": [
    {
     "data": {
      "text/plain": [
       "Maison                                      2073\n",
       "Appartement                                 1875\n",
       "Dépendance                                   768\n",
       "Local industriel. commercial ou assimilé     494\n",
       "Name: Type local, dtype: int64"
      ]
     },
     "execution_count": 35,
     "metadata": {},
     "output_type": "execute_result"
    }
   ],
   "source": [
    "Base['Type local'].value_counts()"
   ]
  },
  {
   "cell_type": "code",
   "execution_count": 36,
   "id": "cultural-volume",
   "metadata": {},
   "outputs": [
    {
     "data": {
      "image/png": "[encoded data removed]",
      "text/plain": [
       "<Figure size 432x288 with 1 Axes>"
      ]
     },
     "metadata": {
      "needs_background": "light"
     },
     "output_type": "display_data"
    }
   ],
   "source": [
    "# To see the most type of local which have the most sale \n",
    "sns.countplot(x='Type local', data=Base)\n",
    "plt.savefig(\"stat1.png\")"
   ]
  },
  {
   "cell_type": "markdown",
   "id": "affiliated-welsh",
   "metadata": {},
   "source": [
    "As we can see the most common type local which have more sale are house  and Appartement"
   ]
  },
  {
   "cell_type": "code",
   "execution_count": 37,
   "id": "looking-jacksonville",
   "metadata": {},
   "outputs": [],
   "source": [
    "#Average property value depending on the type of mutation "
   ]
  },
  {
   "cell_type": "code",
   "execution_count": 38,
   "id": "fixed-woman",
   "metadata": {},
   "outputs": [],
   "source": [
    "#We notice that Valeur foncière is not integer variable, so we should convert into integer before \n",
    "Base['Valeur fonciere']=Base['Valeur fonciere'].str.replace(',','').astype(float)"
   ]
  },
  {
   "cell_type": "code",
   "execution_count": 39,
   "id": "eight-intelligence",
   "metadata": {},
   "outputs": [
    {
     "data": {
      "image/png": "[encoded data removed]",
      "text/plain": [
       "<Figure size 720x360 with 1 Axes>"
      ]
     },
     "metadata": {
      "needs_background": "light"
     },
     "output_type": "display_data"
    }
   ],
   "source": [
    "plt.figure(figsize=(10,5))\n",
    "plt.title(\"Propery value by mutation nature \")\n",
    "Av= sns.barplot(x=\"Valeur fonciere\",y=\"Nature mutation\",data= Base)\n",
    "plt.savefig(\"stat2.png\")"
   ]
  },
  {
   "cell_type": "code",
   "execution_count": 40,
   "id": "steady-engagement",
   "metadata": {},
   "outputs": [],
   "source": [
    "#Average property value depending on the type of local"
   ]
  },
  {
   "cell_type": "code",
   "execution_count": 41,
   "id": "opposed-version",
   "metadata": {},
   "outputs": [
    {
     "data": {
      "image/png": "[encoded data removed]",
      "text/plain": [
       "<Figure size 720x360 with 1 Axes>"
      ]
     },
     "metadata": {
      "needs_background": "light"
     },
     "output_type": "display_data"
    }
   ],
   "source": [
    "plt.figure(figsize=(10,5))\n",
    "plt.title(\"Property value by local type\")\n",
    "Av= sns.barplot(x=\"Valeur fonciere\",y=\"Type local\",data= Base)\n",
    "plt.savefig(\"stat2.png\")"
   ]
  },
  {
   "cell_type": "code",
   "execution_count": 42,
   "id": "diverse-muslim",
   "metadata": {},
   "outputs": [],
   "source": [
    "#Average property value depending on the surface"
   ]
  },
  {
   "cell_type": "code",
   "execution_count": 44,
   "id": "injured-ceiling",
   "metadata": {},
   "outputs": [
    {
     "data": {
      "image/png": "[encoded data removed]",
      "text/plain": [
       "<Figure size 720x360 with 1 Axes>"
      ]
     },
     "metadata": {
      "needs_background": "light"
     },
     "output_type": "display_data"
    }
   ],
   "source": [
    "plt.figure(figsize=(10,5))\n",
    "plt.title(\"Property value by Real built surface\")\n",
    "Av= sns.barplot(x=\"Surface reelle bati\",y=\"Valeur fonciere\",data= Base)\n",
    "plt.savefig(\"stat3.png\")"
   ]
  },
  {
   "cell_type": "markdown",
   "id": "residential-hungary",
   "metadata": {},
   "source": [
    "As you can see, the larger the area, the higher the land value"
   ]
  },
  {
   "cell_type": "code",
   "execution_count": 45,
   "id": "sweet-petite",
   "metadata": {},
   "outputs": [],
   "source": [
    "#Property value by number of main pieces"
   ]
  },
  {
   "cell_type": "code",
   "execution_count": 46,
   "id": "indonesian-warrant",
   "metadata": {},
   "outputs": [
    {
     "data": {
      "image/png": "[encoded data removed]",
      "text/plain": [
       "<Figure size 720x360 with 1 Axes>"
      ]
     },
     "metadata": {
      "needs_background": "light"
     },
     "output_type": "display_data"
    }
   ],
   "source": [
    "plt.figure(figsize=(10,5))\n",
    "plt.title(\"Property value by number of main pieces\")\n",
    "Av= sns.barplot(x=\"Nombre pieces principales\",y=\"Valeur fonciere\",data= Base)\n",
    "plt.savefig(\"stat4.png\")"
   ]
  },
  {
   "cell_type": "code",
   "execution_count": 47,
   "id": "noble-conducting",
   "metadata": {},
   "outputs": [
    {
     "data": {
      "image/png": "[encoded data removed]",
      "text/plain": [
       "<Figure size 1944x504 with 1 Axes>"
      ]
     },
     "metadata": {
      "needs_background": "light"
     },
     "output_type": "display_data"
    },
    {
     "data": {
      "text/plain": [
       "<Figure size 432x288 with 0 Axes>"
      ]
     },
     "metadata": {},
     "output_type": "display_data"
    }
   ],
   "source": [
    "#To see the evolution of property sale by time\n",
    "import matplotlib.dates as mdates\n",
    "fig = plt.figure(figsize = (27,7))\n",
    "ax = plt.axes()\n",
    "#set ticks every month\n",
    "ax.xaxis.set_major_locator(mdates.MonthLocator())\n",
    "#set major ticks format\n",
    "ax.xaxis.set_major_formatter(mdates.DateFormatter('%b %d'))\n",
    "plt.plot(Base['Date'],Base['Valeur fonciere'],color='b', linewidth=1)\n",
    "plt.xlabel(\"2016-2021\")\n",
    "plt.ylabel(\"Valeur fonciere\")\n",
    "plt.title('Evolution of property value between 2016 and 2021')\n",
    "plt.show()\n",
    "plt.savefig(\"stat5.png\")"
   ]
  },
  {
   "cell_type": "code",
   "execution_count": 49,
   "id": "proof-separation",
   "metadata": {},
   "outputs": [
    {
     "data": {
      "image/png": "[encoded data removed]",
      "text/plain": [
       "<Figure size 864x432 with 2 Axes>"
      ]
     },
     "metadata": {
      "needs_background": "light"
     },
     "output_type": "display_data"
    }
   ],
   "source": [
    "#coorelation matrix\n",
    "plt.figure(figsize=(12,6))\n",
    "sns.heatmap(Base.corr(),cmap='coolwarm',annot=True)\n",
    "plt.savefig(\"stat6.png\")"
   ]
  },
  {
   "cell_type": "markdown",
   "id": "communist-socket",
   "metadata": {},
   "source": [
    "### Econometric and Machine learning analysis"
   ]
  },
  {
   "cell_type": "code",
   "execution_count": 48,
   "id": "elder-polish",
   "metadata": {},
   "outputs": [
    {
     "data": {
      "text/html": [
       "<div>\n",
       "<style scoped>\n",
       "    .dataframe tbody tr th:only-of-type {\n",
       "        vertical-align: middle;\n",
       "    }\n",
       "\n",
       "    .dataframe tbody tr th {\n",
       "        vertical-align: top;\n",
       "    }\n",
       "\n",
       "    .dataframe thead th {\n",
       "        text-align: right;\n",
       "    }\n",
       "</style>\n",
       "<table border=\"1\" class=\"dataframe\">\n",
       "  <thead>\n",
       "    <tr style=\"text-align: right;\">\n",
       "      <th></th>\n",
       "      <th>No disposition</th>\n",
       "      <th>Date mutation</th>\n",
       "      <th>Nature mutation</th>\n",
       "      <th>Valeur fonciere</th>\n",
       "      <th>No voie</th>\n",
       "      <th>Type de voie</th>\n",
       "      <th>Code voie</th>\n",
       "      <th>Voie</th>\n",
       "      <th>Code postal</th>\n",
       "      <th>Section</th>\n",
       "      <th>No plan</th>\n",
       "      <th>Nombre de lots</th>\n",
       "      <th>Code type local</th>\n",
       "      <th>Type local</th>\n",
       "      <th>Surface reelle bati</th>\n",
       "      <th>Nombre pieces principales</th>\n",
       "      <th>Surface terrain</th>\n",
       "      <th>Date</th>\n",
       "    </tr>\n",
       "  </thead>\n",
       "  <tbody>\n",
       "    <tr>\n",
       "      <th>995665</th>\n",
       "      <td>1</td>\n",
       "      <td>01/02/2019</td>\n",
       "      <td>Vente</td>\n",
       "      <td>59500000.0</td>\n",
       "      <td>10.0</td>\n",
       "      <td>AV</td>\n",
       "      <td>5956</td>\n",
       "      <td>DES MINIMES</td>\n",
       "      <td>31200.0</td>\n",
       "      <td>AE</td>\n",
       "      <td>589</td>\n",
       "      <td>0</td>\n",
       "      <td>2.0</td>\n",
       "      <td>Appartement</td>\n",
       "      <td>34.0</td>\n",
       "      <td>1.0</td>\n",
       "      <td>132.0</td>\n",
       "      <td>2019-01-02</td>\n",
       "    </tr>\n",
       "    <tr>\n",
       "      <th>1022379</th>\n",
       "      <td>1</td>\n",
       "      <td>01/02/2019</td>\n",
       "      <td>Vente</td>\n",
       "      <td>50000000.0</td>\n",
       "      <td>41.0</td>\n",
       "      <td>RUE</td>\n",
       "      <td>4000</td>\n",
       "      <td>DE LA GRAVETTE</td>\n",
       "      <td>31300.0</td>\n",
       "      <td>AM</td>\n",
       "      <td>137</td>\n",
       "      <td>0</td>\n",
       "      <td>1.0</td>\n",
       "      <td>Maison</td>\n",
       "      <td>149.0</td>\n",
       "      <td>5.0</td>\n",
       "      <td>526.0</td>\n",
       "      <td>2019-01-02</td>\n",
       "    </tr>\n",
       "    <tr>\n",
       "      <th>1021763</th>\n",
       "      <td>1</td>\n",
       "      <td>01/02/2019</td>\n",
       "      <td>Vente</td>\n",
       "      <td>17300000.0</td>\n",
       "      <td>10.0</td>\n",
       "      <td>RUE</td>\n",
       "      <td>5365</td>\n",
       "      <td>LOUIS DE BROGLIE</td>\n",
       "      <td>31100.0</td>\n",
       "      <td>AN</td>\n",
       "      <td>254</td>\n",
       "      <td>0</td>\n",
       "      <td>1.0</td>\n",
       "      <td>Maison</td>\n",
       "      <td>63.0</td>\n",
       "      <td>3.0</td>\n",
       "      <td>149.0</td>\n",
       "      <td>2019-01-02</td>\n",
       "    </tr>\n",
       "    <tr>\n",
       "      <th>995666</th>\n",
       "      <td>1</td>\n",
       "      <td>01/02/2019</td>\n",
       "      <td>Vente</td>\n",
       "      <td>59500000.0</td>\n",
       "      <td>10.0</td>\n",
       "      <td>AV</td>\n",
       "      <td>5956</td>\n",
       "      <td>DES MINIMES</td>\n",
       "      <td>31200.0</td>\n",
       "      <td>AE</td>\n",
       "      <td>589</td>\n",
       "      <td>0</td>\n",
       "      <td>2.0</td>\n",
       "      <td>Appartement</td>\n",
       "      <td>34.0</td>\n",
       "      <td>1.0</td>\n",
       "      <td>132.0</td>\n",
       "      <td>2019-01-02</td>\n",
       "    </tr>\n",
       "    <tr>\n",
       "      <th>996443</th>\n",
       "      <td>1</td>\n",
       "      <td>01/02/2019</td>\n",
       "      <td>Vente</td>\n",
       "      <td>78000000.0</td>\n",
       "      <td>39.0</td>\n",
       "      <td>RUE</td>\n",
       "      <td>8636</td>\n",
       "      <td>DE TUNIS</td>\n",
       "      <td>31200.0</td>\n",
       "      <td>AD</td>\n",
       "      <td>12</td>\n",
       "      <td>0</td>\n",
       "      <td>3.0</td>\n",
       "      <td>Dépendance</td>\n",
       "      <td>0.0</td>\n",
       "      <td>0.0</td>\n",
       "      <td>581.0</td>\n",
       "      <td>2019-01-02</td>\n",
       "    </tr>\n",
       "  </tbody>\n",
       "</table>\n",
       "</div>"
      ],
      "text/plain": [
       "         No disposition Date mutation Nature mutation  Valeur fonciere  \\\n",
       "995665                1    01/02/2019           Vente       59500000.0   \n",
       "1022379               1    01/02/2019           Vente       50000000.0   \n",
       "1021763               1    01/02/2019           Vente       17300000.0   \n",
       "995666                1    01/02/2019           Vente       59500000.0   \n",
       "996443                1    01/02/2019           Vente       78000000.0   \n",
       "\n",
       "         No voie Type de voie Code voie              Voie  Code postal  \\\n",
       "995665      10.0           AV      5956       DES MINIMES      31200.0   \n",
       "1022379     41.0          RUE      4000    DE LA GRAVETTE      31300.0   \n",
       "1021763     10.0          RUE      5365  LOUIS DE BROGLIE      31100.0   \n",
       "995666      10.0           AV      5956       DES MINIMES      31200.0   \n",
       "996443      39.0          RUE      8636          DE TUNIS      31200.0   \n",
       "\n",
       "        Section  No plan  Nombre de lots  Code type local   Type local  \\\n",
       "995665       AE      589               0              2.0  Appartement   \n",
       "1022379      AM      137               0              1.0       Maison   \n",
       "1021763      AN      254               0              1.0       Maison   \n",
       "995666       AE      589               0              2.0  Appartement   \n",
       "996443       AD       12               0              3.0   Dépendance   \n",
       "\n",
       "         Surface reelle bati  Nombre pieces principales  Surface terrain  \\\n",
       "995665                  34.0                        1.0            132.0   \n",
       "1022379                149.0                        5.0            526.0   \n",
       "1021763                 63.0                        3.0            149.0   \n",
       "995666                  34.0                        1.0            132.0   \n",
       "996443                   0.0                        0.0            581.0   \n",
       "\n",
       "              Date  \n",
       "995665  2019-01-02  \n",
       "1022379 2019-01-02  \n",
       "1021763 2019-01-02  \n",
       "995666  2019-01-02  \n",
       "996443  2019-01-02  "
      ]
     },
     "execution_count": 48,
     "metadata": {},
     "output_type": "execute_result"
    }
   ],
   "source": [
    "Base.head()"
   ]
  },
  {
   "cell_type": "code",
   "execution_count": 49,
   "id": "educational-scene",
   "metadata": {},
   "outputs": [],
   "source": [
    "X=Base[[\"Surface reelle bati\",\"Surface terrain\",\"Nombre pieces principales\",\"Nombre de lots\",\"Nature mutation\",\"Type local\"]]\n",
    "y=Base['Valeur fonciere']"
   ]
  },
  {
   "cell_type": "code",
   "execution_count": 50,
   "id": "legal-nature",
   "metadata": {},
   "outputs": [],
   "source": [
    "#Create dummy variables to capture the effect of each modality of the categorical variables\n",
    "Xcat=pd.get_dummies(X[[\"Nature mutation\",\"Type local\"]], drop_first = True)"
   ]
  },
  {
   "cell_type": "code",
   "execution_count": 51,
   "id": "upper-watch",
   "metadata": {},
   "outputs": [],
   "source": [
    "Xnum=X[[\"Surface reelle bati\",\"Surface terrain\",\"Nombre pieces principales\",\"Nombre de lots\"]]"
   ]
  },
  {
   "cell_type": "code",
   "execution_count": 52,
   "id": "angry-combination",
   "metadata": {},
   "outputs": [],
   "source": [
    "x=pd.concat([Xcat, Xnum], axis = 1)"
   ]
  },
  {
   "cell_type": "code",
   "execution_count": 53,
   "id": "indirect-deadline",
   "metadata": {},
   "outputs": [
    {
     "data": {
      "text/html": [
       "<div>\n",
       "<style scoped>\n",
       "    .dataframe tbody tr th:only-of-type {\n",
       "        vertical-align: middle;\n",
       "    }\n",
       "\n",
       "    .dataframe tbody tr th {\n",
       "        vertical-align: top;\n",
       "    }\n",
       "\n",
       "    .dataframe thead th {\n",
       "        text-align: right;\n",
       "    }\n",
       "</style>\n",
       "<table border=\"1\" class=\"dataframe\">\n",
       "  <thead>\n",
       "    <tr style=\"text-align: right;\">\n",
       "      <th></th>\n",
       "      <th>Nature mutation_Echange</th>\n",
       "      <th>Nature mutation_Vente</th>\n",
       "      <th>Nature mutation_Vente en l'état futur d'achèvement</th>\n",
       "      <th>Nature mutation_Vente terrain à bâtir</th>\n",
       "      <th>Type local_Dépendance</th>\n",
       "      <th>Type local_Local industriel. commercial ou assimilé</th>\n",
       "      <th>Type local_Maison</th>\n",
       "      <th>Surface reelle bati</th>\n",
       "      <th>Surface terrain</th>\n",
       "      <th>Nombre pieces principales</th>\n",
       "      <th>Nombre de lots</th>\n",
       "    </tr>\n",
       "  </thead>\n",
       "  <tbody>\n",
       "    <tr>\n",
       "      <th>995665</th>\n",
       "      <td>0</td>\n",
       "      <td>1</td>\n",
       "      <td>0</td>\n",
       "      <td>0</td>\n",
       "      <td>0</td>\n",
       "      <td>0</td>\n",
       "      <td>0</td>\n",
       "      <td>34.0</td>\n",
       "      <td>132.0</td>\n",
       "      <td>1.0</td>\n",
       "      <td>0</td>\n",
       "    </tr>\n",
       "    <tr>\n",
       "      <th>1022379</th>\n",
       "      <td>0</td>\n",
       "      <td>1</td>\n",
       "      <td>0</td>\n",
       "      <td>0</td>\n",
       "      <td>0</td>\n",
       "      <td>0</td>\n",
       "      <td>1</td>\n",
       "      <td>149.0</td>\n",
       "      <td>526.0</td>\n",
       "      <td>5.0</td>\n",
       "      <td>0</td>\n",
       "    </tr>\n",
       "    <tr>\n",
       "      <th>1021763</th>\n",
       "      <td>0</td>\n",
       "      <td>1</td>\n",
       "      <td>0</td>\n",
       "      <td>0</td>\n",
       "      <td>0</td>\n",
       "      <td>0</td>\n",
       "      <td>1</td>\n",
       "      <td>63.0</td>\n",
       "      <td>149.0</td>\n",
       "      <td>3.0</td>\n",
       "      <td>0</td>\n",
       "    </tr>\n",
       "    <tr>\n",
       "      <th>995666</th>\n",
       "      <td>0</td>\n",
       "      <td>1</td>\n",
       "      <td>0</td>\n",
       "      <td>0</td>\n",
       "      <td>0</td>\n",
       "      <td>0</td>\n",
       "      <td>0</td>\n",
       "      <td>34.0</td>\n",
       "      <td>132.0</td>\n",
       "      <td>1.0</td>\n",
       "      <td>0</td>\n",
       "    </tr>\n",
       "    <tr>\n",
       "      <th>996443</th>\n",
       "      <td>0</td>\n",
       "      <td>1</td>\n",
       "      <td>0</td>\n",
       "      <td>0</td>\n",
       "      <td>1</td>\n",
       "      <td>0</td>\n",
       "      <td>0</td>\n",
       "      <td>0.0</td>\n",
       "      <td>581.0</td>\n",
       "      <td>0.0</td>\n",
       "      <td>0</td>\n",
       "    </tr>\n",
       "  </tbody>\n",
       "</table>\n",
       "</div>"
      ],
      "text/plain": [
       "         Nature mutation_Echange  Nature mutation_Vente  \\\n",
       "995665                         0                      1   \n",
       "1022379                        0                      1   \n",
       "1021763                        0                      1   \n",
       "995666                         0                      1   \n",
       "996443                         0                      1   \n",
       "\n",
       "         Nature mutation_Vente en l'état futur d'achèvement  \\\n",
       "995665                                                   0    \n",
       "1022379                                                  0    \n",
       "1021763                                                  0    \n",
       "995666                                                   0    \n",
       "996443                                                   0    \n",
       "\n",
       "         Nature mutation_Vente terrain à bâtir  Type local_Dépendance  \\\n",
       "995665                                       0                      0   \n",
       "1022379                                      0                      0   \n",
       "1021763                                      0                      0   \n",
       "995666                                       0                      0   \n",
       "996443                                       0                      1   \n",
       "\n",
       "         Type local_Local industriel. commercial ou assimilé  \\\n",
       "995665                                                   0     \n",
       "1022379                                                  0     \n",
       "1021763                                                  0     \n",
       "995666                                                   0     \n",
       "996443                                                   0     \n",
       "\n",
       "         Type local_Maison  Surface reelle bati  Surface terrain  \\\n",
       "995665                   0                 34.0            132.0   \n",
       "1022379                  1                149.0            526.0   \n",
       "1021763                  1                 63.0            149.0   \n",
       "995666                   0                 34.0            132.0   \n",
       "996443                   0                  0.0            581.0   \n",
       "\n",
       "         Nombre pieces principales  Nombre de lots  \n",
       "995665                         1.0               0  \n",
       "1022379                        5.0               0  \n",
       "1021763                        3.0               0  \n",
       "995666                         1.0               0  \n",
       "996443                         0.0               0  "
      ]
     },
     "execution_count": 53,
     "metadata": {},
     "output_type": "execute_result"
    }
   ],
   "source": [
    "x.head(5)"
   ]
  },
  {
   "cell_type": "code",
   "execution_count": 54,
   "id": "polyphonic-device",
   "metadata": {},
   "outputs": [],
   "source": [
    "#Train and test split\n",
    "from sklearn.model_selection import train_test_split\n",
    "x_train, x_test, y_train, y_test = train_test_split(x, y, test_size=0.2, random_state=20)"
   ]
  },
  {
   "cell_type": "markdown",
   "id": "biological-commons",
   "metadata": {},
   "source": [
    "### Multiple Linear Regression fitting"
   ]
  },
  {
   "cell_type": "code",
   "execution_count": 55,
   "id": "electronic-connecticut",
   "metadata": {},
   "outputs": [
    {
     "name": "stdout",
     "output_type": "stream",
     "text": [
      "R2 of Linear Regresson: 0.6654485395942955\n"
     ]
    }
   ],
   "source": [
    "\n",
    "from sklearn.linear_model import LinearRegression\n",
    "LinReg = LinearRegression()\n",
    "LinReg.fit(x_train,y_train)\n",
    "print (\"R2 of Linear Regresson:\", LinReg.score(x_train,y_train) )"
   ]
  },
  {
   "cell_type": "code",
   "execution_count": 56,
   "id": "meaningful-dodge",
   "metadata": {},
   "outputs": [
    {
     "data": {
      "image/png": "[encoded data removed]",
      "text/plain": [
       "<Figure size 432x288 with 1 Axes>"
      ]
     },
     "metadata": {
      "needs_background": "light"
     },
     "output_type": "display_data"
    }
   ],
   "source": [
    "# Creating a Histogram of Residuals\n",
    "plt.figure(figsize=(6,4))\n",
    "sns.distplot(y_test - LinReg.predict(x_test))\n",
    "plt.title('Distribution of residuals');\n",
    "plt.savefig(\"stat7.png\")"
   ]
  },
  {
   "cell_type": "code",
   "execution_count": 57,
   "id": "developmental-adaptation",
   "metadata": {},
   "outputs": [
    {
     "name": "stdout",
     "output_type": "stream",
     "text": [
      "Requirement already satisfied: statsmodels in c:\\users\\33758\\anaconda3\\envs\\r\\lib\\site-packages (0.13.1)\n",
      "Requirement already satisfied: scipy>=1.3 in c:\\users\\33758\\anaconda3\\envs\\r\\lib\\site-packages (from statsmodels) (1.6.3)\n",
      "Requirement already satisfied: pandas>=0.25 in c:\\users\\33758\\anaconda3\\envs\\r\\lib\\site-packages (from statsmodels) (1.2.3)\n",
      "Requirement already satisfied: numpy>=1.17 in c:\\users\\33758\\anaconda3\\envs\\r\\lib\\site-packages (from statsmodels) (1.19.5)\n",
      "Requirement already satisfied: patsy>=0.5.2 in c:\\users\\33758\\anaconda3\\envs\\r\\lib\\site-packages (from statsmodels) (0.5.2)\n",
      "Requirement already satisfied: python-dateutil>=2.7.3 in c:\\users\\33758\\anaconda3\\envs\\r\\lib\\site-packages (from pandas>=0.25->statsmodels) (2.8.1)\n",
      "Requirement already satisfied: pytz>=2017.3 in c:\\users\\33758\\anaconda3\\envs\\r\\lib\\site-packages (from pandas>=0.25->statsmodels) (2021.1)\n",
      "Requirement already satisfied: six in c:\\users\\33758\\anaconda3\\envs\\r\\lib\\site-packages (from patsy>=0.5.2->statsmodels) (1.15.0)\n",
      "Note: you may need to restart the kernel to use updated packages.\n"
     ]
    }
   ],
   "source": [
    "pip install statsmodels"
   ]
  },
  {
   "cell_type": "code",
   "execution_count": 58,
   "id": "statutory-witch",
   "metadata": {},
   "outputs": [],
   "source": [
    "import statsmodels.api as sm"
   ]
  },
  {
   "cell_type": "code",
   "execution_count": 59,
   "id": "anonymous-harvard",
   "metadata": {},
   "outputs": [
    {
     "name": "stdout",
     "output_type": "stream",
     "text": [
      "                            OLS Regression Results                            \n",
      "==============================================================================\n",
      "Dep. Variable:        Valeur fonciere   R-squared:                       0.665\n",
      "Model:                            OLS   Adj. R-squared:                  0.665\n",
      "Method:                 Least Squares   F-statistic:                     751.5\n",
      "Date:                Thu, 06 Jan 2022   Prob (F-statistic):               0.00\n",
      "Time:                        21:15:24   Log-Likelihood:                -85649.\n",
      "No. Observations:                4168   AIC:                         1.713e+05\n",
      "Df Residuals:                    4156   BIC:                         1.714e+05\n",
      "Df Model:                          11                                         \n",
      "Covariance Type:            nonrobust                                         \n",
      "=======================================================================================================================\n",
      "                                                          coef    std err          t      P>|t|      [0.025      0.975]\n",
      "-----------------------------------------------------------------------------------------------------------------------\n",
      "const                                                9.112e+07   6.83e+07      1.335      0.182   -4.27e+07    2.25e+08\n",
      "Nature mutation_Echange                             -1.315e+08    7.3e+07     -1.801      0.072   -2.75e+08    1.16e+07\n",
      "Nature mutation_Vente                                5.631e+07    6.8e+07      0.828      0.408    -7.7e+07     1.9e+08\n",
      "Nature mutation_Vente en l'état futur d'achèvement   1.189e+09   9.37e+07     12.686      0.000    1.01e+09    1.37e+09\n",
      "Nature mutation_Vente terrain à bâtir                6.658e+06   2.15e+08      0.031      0.975   -4.14e+08    4.28e+08\n",
      "Type local_Dépendance                                -6.48e+06   1.22e+07     -0.532      0.595   -3.04e+07    1.74e+07\n",
      "Type local_Local industriel. commercial ou assimilé -9.876e+07   1.37e+07     -7.188      0.000   -1.26e+08   -7.18e+07\n",
      "Type local_Maison                                   -5.158e+07   9.62e+06     -5.362      0.000   -7.04e+07   -3.27e+07\n",
      "Surface reelle bati                                  1.663e+04   6287.313      2.645      0.008    4304.260     2.9e+04\n",
      "Surface terrain                                        8.6e+04   1148.252     74.898      0.000    8.38e+04    8.83e+04\n",
      "Nombre pieces principales                           -2.067e+07    2.8e+06     -7.372      0.000   -2.62e+07   -1.52e+07\n",
      "Nombre de lots                                      -3.307e+07   4.46e+07     -0.741      0.458   -1.21e+08    5.44e+07\n",
      "==============================================================================\n",
      "Omnibus:                     2401.835   Durbin-Watson:                   1.980\n",
      "Prob(Omnibus):                  0.000   Jarque-Bera (JB):           484276.124\n",
      "Skew:                           1.645   Prob(JB):                         0.00\n",
      "Kurtosis:                      55.704   Cond. No.                     2.42e+05\n",
      "==============================================================================\n",
      "\n",
      "Notes:\n",
      "[1] Standard Errors assume that the covariance matrix of the errors is correctly specified.\n",
      "[2] The condition number is large, 2.42e+05. This might indicate that there are\n",
      "strong multicollinearity or other numerical problems.\n"
     ]
    }
   ],
   "source": [
    "#Multiple linear regression stats model\n",
    "x_train = sm.add_constant(x_train) # adding a constant\n",
    "model = sm.OLS(y_train, x_train).fit()\n",
    "print(model.summary())"
   ]
  },
  {
   "cell_type": "code",
   "execution_count": 60,
   "id": "occupational-grove",
   "metadata": {},
   "outputs": [
    {
     "data": {
      "image/png": "[encoded data removed]",
      "text/plain": [
       "<Figure size 432x288 with 1 Axes>"
      ]
     },
     "metadata": {
      "needs_background": "light"
     },
     "output_type": "display_data"
    }
   ],
   "source": [
    "x_ax = range(len(y_test))\n",
    "plt.plot(x_ax, y_test, label=\"original\")\n",
    "plt.plot(x_ax, LinReg.predict(x_test),label=\"predicted\")\n",
    "plt.title(\"Test and predicted data\")\n",
    "plt.legend()\n",
    "plt.show()"
   ]
  },
  {
   "cell_type": "code",
   "execution_count": 61,
   "id": "precious-hayes",
   "metadata": {},
   "outputs": [],
   "source": [
    "##PCA TO REDUCE DIMENSION AND CHECK IF WE HAVE AN AMELIORATION OF OUR MODEL"
   ]
  },
  {
   "cell_type": "code",
   "execution_count": 62,
   "id": "preceding-ghana",
   "metadata": {},
   "outputs": [
    {
     "name": "stdout",
     "output_type": "stream",
     "text": [
      "[8.89325862e+06 2.54912179e+05 4.18223888e+00 1.17319119e-01\n",
      " 1.02510634e-01 4.13567956e-02 2.84281843e-02 5.52227745e-03\n",
      " 3.16386391e-03 7.04746539e-04 1.73064122e-04]\n"
     ]
    }
   ],
   "source": [
    "#explained_variance_\n",
    "from sklearn.decomposition import PCA\n",
    "acp = PCA(svd_solver='full')\n",
    "coord = acp.fit_transform(x)\n",
    "print(acp.explained_variance_)"
   ]
  },
  {
   "cell_type": "code",
   "execution_count": 63,
   "id": "opening-transition",
   "metadata": {},
   "outputs": [
    {
     "data": {
      "text/plain": [
       "0.9999999672963541"
      ]
     },
     "execution_count": 63,
     "metadata": {},
     "output_type": "execute_result"
    }
   ],
   "source": [
    "#Information quantity explained by thr firs two components\n",
    "np.cumsum(acp.explained_variance_ratio_)[2]"
   ]
  },
  {
   "cell_type": "code",
   "execution_count": 64,
   "id": "industrial-stewart",
   "metadata": {},
   "outputs": [
    {
     "data": {
      "image/png": "[encoded data removed]",
      "text/plain": [
       "<Figure size 360x360 with 1 Axes>"
      ]
     },
     "metadata": {
      "needs_background": "light"
     },
     "output_type": "display_data"
    },
    {
     "data": {
      "text/plain": [
       "<Figure size 432x288 with 0 Axes>"
      ]
     },
     "metadata": {},
     "output_type": "display_data"
    }
   ],
   "source": [
    "# Percentage of information explaines by every two first components\n",
    "\n",
    "pca = PCA(n_components=2)\n",
    "pca.fit(x)\n",
    "#pca_data = pca.transform(X) # get PCA coordinates for scaled_data\n",
    "coord = pca.fit_transform(x)\n",
    "per_var = np.round(pca.explained_variance_ratio_* 100, decimals=1) #pourcentage de variation que chaque PC représente\n",
    "labels = ['PC' + str(x) for x in range(1, len(per_var)+1)]\n",
    "plt.figure(figsize=(5,5))\n",
    "\n",
    "plt.bar(x=range(1,len(per_var)+1), height=per_var, tick_label=labels)\n",
    "plt.ylabel('Pourcentage de la variance expliquée')\n",
    "plt.xlabel('Principal Component')\n",
    "plt.title('')\n",
    "plt.show()\n",
    "plt.savefig(\"stat8.png\")"
   ]
  },
  {
   "cell_type": "code",
   "execution_count": 65,
   "id": "perceived-activation",
   "metadata": {},
   "outputs": [
    {
     "data": {
      "text/html": [
       "<div>\n",
       "<style scoped>\n",
       "    .dataframe tbody tr th:only-of-type {\n",
       "        vertical-align: middle;\n",
       "    }\n",
       "\n",
       "    .dataframe tbody tr th {\n",
       "        vertical-align: top;\n",
       "    }\n",
       "\n",
       "    .dataframe thead th {\n",
       "        text-align: right;\n",
       "    }\n",
       "</style>\n",
       "<table border=\"1\" class=\"dataframe\">\n",
       "  <thead>\n",
       "    <tr style=\"text-align: right;\">\n",
       "      <th></th>\n",
       "      <th>0</th>\n",
       "      <th>1</th>\n",
       "    </tr>\n",
       "  </thead>\n",
       "  <tbody>\n",
       "    <tr>\n",
       "      <th>0</th>\n",
       "      <td>-1454.028423</td>\n",
       "      <td>-25.740591</td>\n",
       "    </tr>\n",
       "    <tr>\n",
       "      <th>1</th>\n",
       "      <td>-1055.554484</td>\n",
       "      <td>72.641467</td>\n",
       "    </tr>\n",
       "    <tr>\n",
       "      <th>2</th>\n",
       "      <td>-1435.828000</td>\n",
       "      <td>2.521364</td>\n",
       "    </tr>\n",
       "    <tr>\n",
       "      <th>3</th>\n",
       "      <td>-1454.028423</td>\n",
       "      <td>-25.740591</td>\n",
       "    </tr>\n",
       "    <tr>\n",
       "      <th>4</th>\n",
       "      <td>-1006.848292</td>\n",
       "      <td>-78.533519</td>\n",
       "    </tr>\n",
       "    <tr>\n",
       "      <th>...</th>\n",
       "      <td>...</td>\n",
       "      <td>...</td>\n",
       "    </tr>\n",
       "    <tr>\n",
       "      <th>5205</th>\n",
       "      <td>-1509.714184</td>\n",
       "      <td>30.643515</td>\n",
       "    </tr>\n",
       "    <tr>\n",
       "      <th>5206</th>\n",
       "      <td>-1344.740411</td>\n",
       "      <td>2.702975</td>\n",
       "    </tr>\n",
       "    <tr>\n",
       "      <th>5207</th>\n",
       "      <td>-1345.452461</td>\n",
       "      <td>-14.282020</td>\n",
       "    </tr>\n",
       "    <tr>\n",
       "      <th>5208</th>\n",
       "      <td>-1198.679505</td>\n",
       "      <td>-70.484619</td>\n",
       "    </tr>\n",
       "    <tr>\n",
       "      <th>5209</th>\n",
       "      <td>-1164.256197</td>\n",
       "      <td>58.185703</td>\n",
       "    </tr>\n",
       "  </tbody>\n",
       "</table>\n",
       "<p>5210 rows × 2 columns</p>\n",
       "</div>"
      ],
      "text/plain": [
       "                0          1\n",
       "0    -1454.028423 -25.740591\n",
       "1    -1055.554484  72.641467\n",
       "2    -1435.828000   2.521364\n",
       "3    -1454.028423 -25.740591\n",
       "4    -1006.848292 -78.533519\n",
       "...           ...        ...\n",
       "5205 -1509.714184  30.643515\n",
       "5206 -1344.740411   2.702975\n",
       "5207 -1345.452461 -14.282020\n",
       "5208 -1198.679505 -70.484619\n",
       "5209 -1164.256197  58.185703\n",
       "\n",
       "[5210 rows x 2 columns]"
      ]
     },
     "execution_count": 65,
     "metadata": {},
     "output_type": "execute_result"
    }
   ],
   "source": [
    "# The two first components chosen\n",
    "coord=pd.DataFrame(coord)\n",
    "coord"
   ]
  },
  {
   "cell_type": "code",
   "execution_count": 66,
   "id": "becoming-ordinary",
   "metadata": {},
   "outputs": [],
   "source": [
    "#train test split based on our two components\n",
    "coord_train, coord_test, y_train, y_test = train_test_split(coord, y, test_size=0.2, random_state=42)"
   ]
  },
  {
   "cell_type": "code",
   "execution_count": 67,
   "id": "usual-queens",
   "metadata": {},
   "outputs": [
    {
     "name": "stdout",
     "output_type": "stream",
     "text": [
      "R2 of Linear Regresson: 0.6135214354998357\n"
     ]
    }
   ],
   "source": [
    "#Multiple linear regression based on PCA\n",
    "LinReg = LinearRegression()\n",
    "LinReg.fit(coord_train,y_train)\n",
    "print (\"R2 of Linear Regresson:\", LinReg.score(coord_train,y_train) )"
   ]
  },
  {
   "cell_type": "markdown",
   "id": "retained-shaft",
   "metadata": {},
   "source": [
    "### SVR MODEL"
   ]
  },
  {
   "cell_type": "code",
   "execution_count": 68,
   "id": "correct-congo",
   "metadata": {},
   "outputs": [],
   "source": [
    "#TRAIN TEST SPLIT FOR SVR \n",
    "from sklearn.model_selection import train_test_split\n",
    "x_train, x_test, y_train, y_test = train_test_split(x, y, test_size=0.2, random_state=20)"
   ]
  },
  {
   "cell_type": "code",
   "execution_count": 69,
   "id": "renewable-pollution",
   "metadata": {},
   "outputs": [
    {
     "name": "stdout",
     "output_type": "stream",
     "text": [
      "linear 0.5639997861294169\n",
      "poly -0.17009526933569452\n",
      "rbf -0.17117566175773824\n",
      "sigmoid -0.1711762849159173\n"
     ]
    }
   ],
   "source": [
    "# First, let's choose which kernel is the best for our data\n",
    "for k in ['linear','poly','rbf','sigmoid']:\n",
    "    clf = svm.SVR(kernel=k)\n",
    "    clf.fit(x_train, y_train)\n",
    "    confidence = clf.score(x_train, y_train)\n",
    "    print(k,confidence)"
   ]
  },
  {
   "cell_type": "code",
   "execution_count": 70,
   "id": "thermal-median",
   "metadata": {},
   "outputs": [
    {
     "name": "stdout",
     "output_type": "stream",
     "text": [
      "LinearSVR()\n"
     ]
    },
    {
     "data": {
      "text/plain": [
       "LinearSVR()"
      ]
     },
     "execution_count": 70,
     "metadata": {},
     "output_type": "execute_result"
    }
   ],
   "source": [
    "#definition of the regression model with the LinearSVR class using the default parameters of the LinearSVR class.\n",
    "from sklearn.svm import LinearSVR\n",
    "lsvr = LinearSVR(verbose=0, dual=True)\n",
    "print(lsvr)\n",
    "LinearSVR(C=1.0, dual=True, epsilon=0.0, fit_intercept=True,\n",
    "          intercept_scaling=1.0, loss='epsilon_insensitive', max_iter=1000,\n",
    "          random_state=None, tol=0.0001, verbose=0)"
   ]
  },
  {
   "cell_type": "code",
   "execution_count": 71,
   "id": "worth-basic",
   "metadata": {},
   "outputs": [
    {
     "name": "stdout",
     "output_type": "stream",
     "text": [
      "R-squared: 0.5589520531374884\n"
     ]
    }
   ],
   "source": [
    "#Fitting the model to the train data and checking the accuracy score of the model\n",
    "lsvr.fit(x_train, y_train)\n",
    "\n",
    "score = lsvr.score(x_train, y_train)\n",
    "print(\"R-squared:\", score)"
   ]
  },
  {
   "cell_type": "code",
   "execution_count": 72,
   "id": "massive-maker",
   "metadata": {},
   "outputs": [
    {
     "name": "stdout",
     "output_type": "stream",
     "text": [
      "CV mean score:  0.5650520793576204\n"
     ]
    }
   ],
   "source": [
    "cv_score = cross_val_score(lsvr, x_train, y_train, cv = 10)\n",
    "print(\"CV mean score: \", cv_score.mean())"
   ]
  },
  {
   "cell_type": "code",
   "execution_count": 73,
   "id": "governing-advance",
   "metadata": {},
   "outputs": [
    {
     "name": "stdout",
     "output_type": "stream",
     "text": [
      "MSE:  3.7105337241440056e+16\n",
      "RMSE:  1.8552668620720028e+16\n"
     ]
    }
   ],
   "source": [
    "#Predicted test data using the trained model and verified the accuracy of the predicted data using the MSE and RMSE metrics.\n",
    "ypred = lsvr.predict(x_test)\n",
    "mse = mean_squared_error(y_test, ypred)\n",
    "print(\"MSE: \", mse)\n",
    "print(\"RMSE: \", mse*(1/2.0))"
   ]
  },
  {
   "cell_type": "code",
   "execution_count": 74,
   "id": "instrumental-greeting",
   "metadata": {},
   "outputs": [
    {
     "data": {
      "image/png": "[encoded data removed]",
      "text/plain": [
       "<Figure size 432x288 with 1 Axes>"
      ]
     },
     "metadata": {
      "needs_background": "light"
     },
     "output_type": "display_data"
    },
    {
     "data": {
      "text/plain": [
       "<Figure size 432x288 with 0 Axes>"
      ]
     },
     "metadata": {},
     "output_type": "display_data"
    }
   ],
   "source": [
    "#Visualization of the original and predicted data on a graph.\n",
    "x_ax = range(len(y_test))\n",
    "plt.plot(x_ax, y_test, label=\"original\")\n",
    "plt.plot(x_ax, ypred, label=\"predicted\")\n",
    "plt.title(\"Test and predicted data\")\n",
    "plt.legend()\n",
    "plt.show()\n",
    "plt.savefig(\"stat9.png\")"
   ]
  },
  {
   "cell_type": "markdown",
   "id": "decent-ordering",
   "metadata": {},
   "source": [
    "### Conclusion"
   ]
  },
  {
   "cell_type": "markdown",
   "id": "canadian-hearts",
   "metadata": {},
   "source": [
    "This assignment allowed us to deepen our knowledge in database management, mainly on the formation of several tables from a database, and the processing on the statistical, econometric and machine learning level. The formation of several tables allowed us to avoid duplicates and to better structure our database and the data processing and analysis part, how to better describe a database, how to process it, analyze it, make econometric and machine learning models. All this work has been done in two languages, SQL and Python, two languages that are essential in the world of programming, analysis and data processing.\n",
    "In order to estimate and predict the land value, we proceeded to the estimation of two models: a linear model and an SVR model.The results of our model allow us to say that both models predict well, but the linear multiple regression even more "
   ]
  }
 ],
 "metadata": {
  "kernelspec": {
   "display_name": "Python 3",
   "language": "python",
   "name": "python3"
  },
  "language_info": {
   "codemirror_mode": {
    "name": "ipython",
    "version": 3
   },
   "file_extension": ".py",
   "mimetype": "text/x-python",
   "name": "python",
   "nbconvert_exporter": "python",
   "pygments_lexer": "ipython3",
   "version": "3.8.8"
  }
 },
 "nbformat": 4,
 "nbformat_minor": 5
}
